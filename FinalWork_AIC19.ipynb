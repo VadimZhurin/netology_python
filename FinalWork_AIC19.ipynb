{
 "cells": [
  {
   "cell_type": "markdown",
   "id": "bb1234a0",
   "metadata": {},
   "source": [
    "# Анализ набора данных для финальной работы по курсу: Метрики, гипотезы, точки роста"
   ]
  },
  {
   "cell_type": "code",
   "execution_count": 1,
   "id": "3fa97cb9",
   "metadata": {},
   "outputs": [],
   "source": [
    "import pandas as pd # импортируем pandas\n",
    "import numpy as np # импортируем numpy"
   ]
  },
  {
   "cell_type": "code",
   "execution_count": 2,
   "id": "f282c997",
   "metadata": {},
   "outputs": [],
   "source": [
    "df = pd.read_excel('Data Sample (AIC) для итоговой работы .xlsx') # загружаем наш датасет"
   ]
  },
  {
   "cell_type": "code",
   "execution_count": 3,
   "id": "230e2c16",
   "metadata": {},
   "outputs": [
    {
     "data": {
      "text/html": [
       "<div>\n",
       "<style scoped>\n",
       "    .dataframe tbody tr th:only-of-type {\n",
       "        vertical-align: middle;\n",
       "    }\n",
       "\n",
       "    .dataframe tbody tr th {\n",
       "        vertical-align: top;\n",
       "    }\n",
       "\n",
       "    .dataframe thead th {\n",
       "        text-align: right;\n",
       "    }\n",
       "</style>\n",
       "<table border=\"1\" class=\"dataframe\">\n",
       "  <thead>\n",
       "    <tr style=\"text-align: right;\">\n",
       "      <th></th>\n",
       "      <th>InvoiceNo</th>\n",
       "      <th>StockCode</th>\n",
       "      <th>Description</th>\n",
       "      <th>Quantity</th>\n",
       "      <th>InvoiceDate</th>\n",
       "      <th>UnitPrice</th>\n",
       "      <th>CustomerID</th>\n",
       "      <th>Country</th>\n",
       "    </tr>\n",
       "  </thead>\n",
       "  <tbody>\n",
       "    <tr>\n",
       "      <th>0</th>\n",
       "      <td>536365</td>\n",
       "      <td>84029E</td>\n",
       "      <td>RED WOOLLY HOTTIE WHITE HEART.</td>\n",
       "      <td>6</td>\n",
       "      <td>2010-12-01 08:26:00</td>\n",
       "      <td>3.39</td>\n",
       "      <td>17850.0</td>\n",
       "      <td>United Kingdom</td>\n",
       "    </tr>\n",
       "    <tr>\n",
       "      <th>1</th>\n",
       "      <td>536367</td>\n",
       "      <td>84879</td>\n",
       "      <td>ASSORTED COLOUR BIRD ORNAMENT</td>\n",
       "      <td>32</td>\n",
       "      <td>2010-12-01 08:34:00</td>\n",
       "      <td>1.69</td>\n",
       "      <td>13047.0</td>\n",
       "      <td>United Kingdom</td>\n",
       "    </tr>\n",
       "    <tr>\n",
       "      <th>2</th>\n",
       "      <td>536367</td>\n",
       "      <td>21755</td>\n",
       "      <td>LOVE BUILDING BLOCK WORD</td>\n",
       "      <td>3</td>\n",
       "      <td>2010-12-01 08:34:00</td>\n",
       "      <td>5.95</td>\n",
       "      <td>13047.0</td>\n",
       "      <td>United Kingdom</td>\n",
       "    </tr>\n",
       "    <tr>\n",
       "      <th>3</th>\n",
       "      <td>536368</td>\n",
       "      <td>22914</td>\n",
       "      <td>BLUE COAT RACK PARIS FASHION</td>\n",
       "      <td>3</td>\n",
       "      <td>2010-12-01 08:34:00</td>\n",
       "      <td>4.95</td>\n",
       "      <td>13047.0</td>\n",
       "      <td>United Kingdom</td>\n",
       "    </tr>\n",
       "    <tr>\n",
       "      <th>4</th>\n",
       "      <td>536373</td>\n",
       "      <td>84406B</td>\n",
       "      <td>CREAM CUPID HEARTS COAT HANGER</td>\n",
       "      <td>8</td>\n",
       "      <td>2010-12-01 09:02:00</td>\n",
       "      <td>2.75</td>\n",
       "      <td>17850.0</td>\n",
       "      <td>United Kingdom</td>\n",
       "    </tr>\n",
       "  </tbody>\n",
       "</table>\n",
       "</div>"
      ],
      "text/plain": [
       "  InvoiceNo StockCode                     Description  Quantity  \\\n",
       "0    536365    84029E  RED WOOLLY HOTTIE WHITE HEART.         6   \n",
       "1    536367     84879   ASSORTED COLOUR BIRD ORNAMENT        32   \n",
       "2    536367     21755        LOVE BUILDING BLOCK WORD         3   \n",
       "3    536368     22914    BLUE COAT RACK PARIS FASHION         3   \n",
       "4    536373    84406B  CREAM CUPID HEARTS COAT HANGER         8   \n",
       "\n",
       "          InvoiceDate  UnitPrice  CustomerID         Country  \n",
       "0 2010-12-01 08:26:00       3.39     17850.0  United Kingdom  \n",
       "1 2010-12-01 08:34:00       1.69     13047.0  United Kingdom  \n",
       "2 2010-12-01 08:34:00       5.95     13047.0  United Kingdom  \n",
       "3 2010-12-01 08:34:00       4.95     13047.0  United Kingdom  \n",
       "4 2010-12-01 09:02:00       2.75     17850.0  United Kingdom  "
      ]
     },
     "execution_count": 3,
     "metadata": {},
     "output_type": "execute_result"
    }
   ],
   "source": [
    "df.head() # проверяем результат импорта"
   ]
  },
  {
   "cell_type": "code",
   "execution_count": 4,
   "id": "2589a544",
   "metadata": {},
   "outputs": [
    {
     "name": "stdout",
     "output_type": "stream",
     "text": [
      "<class 'pandas.core.frame.DataFrame'>\n",
      "RangeIndex: 54214 entries, 0 to 54213\n",
      "Data columns (total 8 columns):\n",
      " #   Column       Non-Null Count  Dtype         \n",
      "---  ------       --------------  -----         \n",
      " 0   InvoiceNo    54214 non-null  object        \n",
      " 1   StockCode    54214 non-null  object        \n",
      " 2   Description  54080 non-null  object        \n",
      " 3   Quantity     54214 non-null  int64         \n",
      " 4   InvoiceDate  54214 non-null  datetime64[ns]\n",
      " 5   UnitPrice    54214 non-null  float64       \n",
      " 6   CustomerID   40643 non-null  float64       \n",
      " 7   Country      54214 non-null  object        \n",
      "dtypes: datetime64[ns](1), float64(2), int64(1), object(4)\n",
      "memory usage: 3.3+ MB\n"
     ]
    }
   ],
   "source": [
    "df.info() # проверяем наши данные на пустые значения"
   ]
  },
  {
   "cell_type": "markdown",
   "id": "b74b3f0f",
   "metadata": {},
   "source": [
    "У нас 54 214 строк - в двух столбцах данные неполные: Description и CustomerID. Описание - это категориальные данные, наверняка в организации есть словарь с комбинациями: StockCode - Description. Если необходима детализация до уровня названия объекта, то есть смысл запросить его. В нашем анализе достаточно знать StockCode и таким образом идентифицировать объект."
   ]
  },
  {
   "cell_type": "code",
   "execution_count": 5,
   "id": "bc0cbf95",
   "metadata": {},
   "outputs": [],
   "source": [
    "df = df[['InvoiceNo', 'StockCode', 'Quantity', 'InvoiceDate', 'UnitPrice', 'CustomerID', 'Country']] # удаляем Description "
   ]
  },
  {
   "cell_type": "markdown",
   "id": "36a9c1fd",
   "metadata": {},
   "source": [
    "Отсутствие данных в CustomerID не позволит нам идентифицировать конкретного клиента с наибольшими возвратами либо покупками."
   ]
  },
  {
   "cell_type": "code",
   "execution_count": 6,
   "id": "e8f2e55b",
   "metadata": {},
   "outputs": [
    {
     "data": {
      "text/plain": [
       "13571"
      ]
     },
     "execution_count": 6,
     "metadata": {},
     "output_type": "execute_result"
    }
   ],
   "source": [
    "df['CustomerID'].isnull().sum() # находим количество пустых строк"
   ]
  },
  {
   "cell_type": "markdown",
   "id": "9cc977b2",
   "metadata": {},
   "source": [
    "Пропущена значительная часть данных о клиентах, к сожалению её невозможно полностью восстановить на основе имеющихся данных. Поэтому придется убрать этот столбец из нашего датасета, а жаль..."
   ]
  },
  {
   "cell_type": "code",
   "execution_count": 7,
   "id": "07ad232b",
   "metadata": {},
   "outputs": [],
   "source": [
    "df = df[['InvoiceNo', 'StockCode', 'Quantity', 'InvoiceDate', 'UnitPrice', 'Country']] # удаляем CustomerID"
   ]
  },
  {
   "cell_type": "markdown",
   "id": "8f1a85dd",
   "metadata": {},
   "source": [
    "Ну и раз уж мы здесь добавим столбец total в котором умножим количество на цену за еденицу"
   ]
  },
  {
   "cell_type": "code",
   "execution_count": 8,
   "id": "760e67b3",
   "metadata": {},
   "outputs": [],
   "source": [
    "df['Total'] = df['Quantity'] * df['UnitPrice'] # добавляем столбец Total - произведение цены за единицу на количество"
   ]
  },
  {
   "cell_type": "code",
   "execution_count": 9,
   "id": "dcf8342f",
   "metadata": {},
   "outputs": [
    {
     "data": {
      "text/html": [
       "<div>\n",
       "<style scoped>\n",
       "    .dataframe tbody tr th:only-of-type {\n",
       "        vertical-align: middle;\n",
       "    }\n",
       "\n",
       "    .dataframe tbody tr th {\n",
       "        vertical-align: top;\n",
       "    }\n",
       "\n",
       "    .dataframe thead th {\n",
       "        text-align: right;\n",
       "    }\n",
       "</style>\n",
       "<table border=\"1\" class=\"dataframe\">\n",
       "  <thead>\n",
       "    <tr style=\"text-align: right;\">\n",
       "      <th></th>\n",
       "      <th>InvoiceNo</th>\n",
       "      <th>StockCode</th>\n",
       "      <th>Quantity</th>\n",
       "      <th>InvoiceDate</th>\n",
       "      <th>UnitPrice</th>\n",
       "      <th>Country</th>\n",
       "      <th>Total</th>\n",
       "    </tr>\n",
       "  </thead>\n",
       "  <tbody>\n",
       "    <tr>\n",
       "      <th>0</th>\n",
       "      <td>536365</td>\n",
       "      <td>84029E</td>\n",
       "      <td>6</td>\n",
       "      <td>2010-12-01 08:26:00</td>\n",
       "      <td>3.39</td>\n",
       "      <td>United Kingdom</td>\n",
       "      <td>20.34</td>\n",
       "    </tr>\n",
       "    <tr>\n",
       "      <th>1</th>\n",
       "      <td>536367</td>\n",
       "      <td>84879</td>\n",
       "      <td>32</td>\n",
       "      <td>2010-12-01 08:34:00</td>\n",
       "      <td>1.69</td>\n",
       "      <td>United Kingdom</td>\n",
       "      <td>54.08</td>\n",
       "    </tr>\n",
       "    <tr>\n",
       "      <th>2</th>\n",
       "      <td>536367</td>\n",
       "      <td>21755</td>\n",
       "      <td>3</td>\n",
       "      <td>2010-12-01 08:34:00</td>\n",
       "      <td>5.95</td>\n",
       "      <td>United Kingdom</td>\n",
       "      <td>17.85</td>\n",
       "    </tr>\n",
       "    <tr>\n",
       "      <th>3</th>\n",
       "      <td>536368</td>\n",
       "      <td>22914</td>\n",
       "      <td>3</td>\n",
       "      <td>2010-12-01 08:34:00</td>\n",
       "      <td>4.95</td>\n",
       "      <td>United Kingdom</td>\n",
       "      <td>14.85</td>\n",
       "    </tr>\n",
       "    <tr>\n",
       "      <th>4</th>\n",
       "      <td>536373</td>\n",
       "      <td>84406B</td>\n",
       "      <td>8</td>\n",
       "      <td>2010-12-01 09:02:00</td>\n",
       "      <td>2.75</td>\n",
       "      <td>United Kingdom</td>\n",
       "      <td>22.00</td>\n",
       "    </tr>\n",
       "  </tbody>\n",
       "</table>\n",
       "</div>"
      ],
      "text/plain": [
       "  InvoiceNo StockCode  Quantity         InvoiceDate  UnitPrice  \\\n",
       "0    536365    84029E         6 2010-12-01 08:26:00       3.39   \n",
       "1    536367     84879        32 2010-12-01 08:34:00       1.69   \n",
       "2    536367     21755         3 2010-12-01 08:34:00       5.95   \n",
       "3    536368     22914         3 2010-12-01 08:34:00       4.95   \n",
       "4    536373    84406B         8 2010-12-01 09:02:00       2.75   \n",
       "\n",
       "          Country  Total  \n",
       "0  United Kingdom  20.34  \n",
       "1  United Kingdom  54.08  \n",
       "2  United Kingdom  17.85  \n",
       "3  United Kingdom  14.85  \n",
       "4  United Kingdom  22.00  "
      ]
     },
     "execution_count": 9,
     "metadata": {},
     "output_type": "execute_result"
    }
   ],
   "source": [
    "df.head() # смотрим что у нас получилось"
   ]
  },
  {
   "cell_type": "code",
   "execution_count": 10,
   "id": "04190df7",
   "metadata": {},
   "outputs": [],
   "source": [
    "df.to_excel('Data Sample (AIC) Clear.xlsx') # сохраняем в новый файл"
   ]
  },
  {
   "cell_type": "code",
   "execution_count": null,
   "id": "8a2d691a",
   "metadata": {},
   "outputs": [],
   "source": []
  }
 ],
 "metadata": {
  "kernelspec": {
   "display_name": "Python 3",
   "language": "python",
   "name": "python3"
  },
  "language_info": {
   "codemirror_mode": {
    "name": "ipython",
    "version": 3
   },
   "file_extension": ".py",
   "mimetype": "text/x-python",
   "name": "python",
   "nbconvert_exporter": "python",
   "pygments_lexer": "ipython3",
   "version": "3.8.5"
  }
 },
 "nbformat": 4,
 "nbformat_minor": 5
}
