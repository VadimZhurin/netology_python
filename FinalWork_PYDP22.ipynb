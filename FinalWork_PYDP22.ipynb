{
 "cells": [
  {
   "cell_type": "markdown",
   "id": "bb1234a0",
   "metadata": {},
   "source": [
    "# Дипломная работа по курсу \"Python для анализа данных\""
   ]
  },
  {
   "cell_type": "markdown",
   "id": "20712c02",
   "metadata": {},
   "source": [
    "### 1 - Загрузите файл HR.csv в pandas dataframe"
   ]
  },
  {
   "cell_type": "code",
   "execution_count": 1,
   "id": "8a2d691a",
   "metadata": {},
   "outputs": [],
   "source": [
    "import pandas as pd # Загружаем библиотеку pandas"
   ]
  },
  {
   "cell_type": "code",
   "execution_count": 2,
   "id": "81955909",
   "metadata": {},
   "outputs": [
    {
     "name": "stdout",
     "output_type": "stream",
     "text": [
      "<class 'pandas.core.frame.DataFrame'>\n",
      "RangeIndex: 14999 entries, 0 to 14998\n",
      "Data columns (total 10 columns):\n",
      " #   Column                 Non-Null Count  Dtype  \n",
      "---  ------                 --------------  -----  \n",
      " 0   satisfaction_level     14999 non-null  float64\n",
      " 1   last_evaluation        14999 non-null  float64\n",
      " 2   number_project         14999 non-null  int64  \n",
      " 3   average_montly_hours   14999 non-null  int64  \n",
      " 4   time_spend_company     14999 non-null  int64  \n",
      " 5   Work_accident          14999 non-null  int64  \n",
      " 6   left                   14999 non-null  int64  \n",
      " 7   promotion_last_5years  14999 non-null  int64  \n",
      " 8   department             14999 non-null  object \n",
      " 9   salary                 14999 non-null  object \n",
      "dtypes: float64(2), int64(6), object(2)\n",
      "memory usage: 1.1+ MB\n"
     ]
    }
   ],
   "source": [
    "data = pd.read_csv('HR.csv') # Загружаем файл в датасет pandas\n",
    "data.info() # Выводим основную информацию о датасете, чтобы оценить полноту и типы данных"
   ]
  },
  {
   "cell_type": "code",
   "execution_count": 3,
   "id": "455c3e2c",
   "metadata": {},
   "outputs": [
    {
     "data": {
      "text/html": [
       "<div>\n",
       "<style scoped>\n",
       "    .dataframe tbody tr th:only-of-type {\n",
       "        vertical-align: middle;\n",
       "    }\n",
       "\n",
       "    .dataframe tbody tr th {\n",
       "        vertical-align: top;\n",
       "    }\n",
       "\n",
       "    .dataframe thead th {\n",
       "        text-align: right;\n",
       "    }\n",
       "</style>\n",
       "<table border=\"1\" class=\"dataframe\">\n",
       "  <thead>\n",
       "    <tr style=\"text-align: right;\">\n",
       "      <th></th>\n",
       "      <th>satisfaction_level</th>\n",
       "      <th>last_evaluation</th>\n",
       "      <th>number_project</th>\n",
       "      <th>average_montly_hours</th>\n",
       "      <th>time_spend_company</th>\n",
       "      <th>Work_accident</th>\n",
       "      <th>left</th>\n",
       "      <th>promotion_last_5years</th>\n",
       "      <th>department</th>\n",
       "      <th>salary</th>\n",
       "    </tr>\n",
       "  </thead>\n",
       "  <tbody>\n",
       "    <tr>\n",
       "      <th>0</th>\n",
       "      <td>0.38</td>\n",
       "      <td>0.53</td>\n",
       "      <td>2</td>\n",
       "      <td>157</td>\n",
       "      <td>3</td>\n",
       "      <td>0</td>\n",
       "      <td>1</td>\n",
       "      <td>0</td>\n",
       "      <td>sales</td>\n",
       "      <td>low</td>\n",
       "    </tr>\n",
       "    <tr>\n",
       "      <th>1</th>\n",
       "      <td>0.80</td>\n",
       "      <td>0.86</td>\n",
       "      <td>5</td>\n",
       "      <td>262</td>\n",
       "      <td>6</td>\n",
       "      <td>0</td>\n",
       "      <td>1</td>\n",
       "      <td>0</td>\n",
       "      <td>sales</td>\n",
       "      <td>medium</td>\n",
       "    </tr>\n",
       "    <tr>\n",
       "      <th>2</th>\n",
       "      <td>0.11</td>\n",
       "      <td>0.88</td>\n",
       "      <td>7</td>\n",
       "      <td>272</td>\n",
       "      <td>4</td>\n",
       "      <td>0</td>\n",
       "      <td>1</td>\n",
       "      <td>0</td>\n",
       "      <td>sales</td>\n",
       "      <td>medium</td>\n",
       "    </tr>\n",
       "    <tr>\n",
       "      <th>3</th>\n",
       "      <td>0.72</td>\n",
       "      <td>0.87</td>\n",
       "      <td>5</td>\n",
       "      <td>223</td>\n",
       "      <td>5</td>\n",
       "      <td>0</td>\n",
       "      <td>1</td>\n",
       "      <td>0</td>\n",
       "      <td>sales</td>\n",
       "      <td>low</td>\n",
       "    </tr>\n",
       "    <tr>\n",
       "      <th>4</th>\n",
       "      <td>0.37</td>\n",
       "      <td>0.52</td>\n",
       "      <td>2</td>\n",
       "      <td>159</td>\n",
       "      <td>3</td>\n",
       "      <td>0</td>\n",
       "      <td>1</td>\n",
       "      <td>0</td>\n",
       "      <td>sales</td>\n",
       "      <td>low</td>\n",
       "    </tr>\n",
       "  </tbody>\n",
       "</table>\n",
       "</div>"
      ],
      "text/plain": [
       "   satisfaction_level  last_evaluation  number_project  average_montly_hours  \\\n",
       "0                0.38             0.53               2                   157   \n",
       "1                0.80             0.86               5                   262   \n",
       "2                0.11             0.88               7                   272   \n",
       "3                0.72             0.87               5                   223   \n",
       "4                0.37             0.52               2                   159   \n",
       "\n",
       "   time_spend_company  Work_accident  left  promotion_last_5years department  \\\n",
       "0                   3              0     1                      0      sales   \n",
       "1                   6              0     1                      0      sales   \n",
       "2                   4              0     1                      0      sales   \n",
       "3                   5              0     1                      0      sales   \n",
       "4                   3              0     1                      0      sales   \n",
       "\n",
       "   salary  \n",
       "0     low  \n",
       "1  medium  \n",
       "2  medium  \n",
       "3     low  \n",
       "4     low  "
      ]
     },
     "execution_count": 3,
     "metadata": {},
     "output_type": "execute_result"
    }
   ],
   "source": [
    "data.head() # Выводим первые 5 строк нашего датасета, чтобы познакомиться с данными"
   ]
  },
  {
   "cell_type": "markdown",
   "id": "7d40079b",
   "metadata": {},
   "source": [
    "Признаки:\n",
    "\n",
    "1. satisfaction_level - Уровень удовлетворенности работой\n",
    "2. Last_evaluation - Время с момента последней оценки в годах\n",
    "3. number_project - Количество проектов, выполненных за время работы\n",
    "4. average_monthly_hours - Среднее количество часов на рабочем месте в месяц\n",
    "5. time_spend_company - Стаж работы в компании в годах\n",
    "6. work_accident - Происходили ли несчастные случаи на рабочем месте с сотрудником\n",
    "7. left - уволился ли сотрудник\n",
    "8. promotion_last_5years - повышался ли сотрудник за последние пять лет\n",
    "9. department - отдел в котором работает сотрудник\n",
    "10. salary - относительный уровень зарплаты"
   ]
  },
  {
   "cell_type": "markdown",
   "id": "a0444715",
   "metadata": {},
   "source": [
    "### 2 - Рассчитайте основные статистики для переменных (среднее, медиана, мода, мин/макс, сред.отклонение)."
   ]
  },
  {
   "cell_type": "code",
   "execution_count": 4,
   "id": "b7c2fe20",
   "metadata": {},
   "outputs": [
    {
     "data": {
      "text/html": [
       "<div>\n",
       "<style scoped>\n",
       "    .dataframe tbody tr th:only-of-type {\n",
       "        vertical-align: middle;\n",
       "    }\n",
       "\n",
       "    .dataframe tbody tr th {\n",
       "        vertical-align: top;\n",
       "    }\n",
       "\n",
       "    .dataframe thead th {\n",
       "        text-align: right;\n",
       "    }\n",
       "</style>\n",
       "<table border=\"1\" class=\"dataframe\">\n",
       "  <thead>\n",
       "    <tr style=\"text-align: right;\">\n",
       "      <th></th>\n",
       "      <th>metrics</th>\n",
       "      <th>satisfaction_level</th>\n",
       "      <th>last_evaluation</th>\n",
       "      <th>number_project</th>\n",
       "      <th>average_montly_hours</th>\n",
       "      <th>time_spend_company</th>\n",
       "      <th>Work_accident</th>\n",
       "      <th>left</th>\n",
       "    </tr>\n",
       "  </thead>\n",
       "  <tbody>\n",
       "    <tr>\n",
       "      <th>0</th>\n",
       "      <td>Среднее</td>\n",
       "      <td>0.612834</td>\n",
       "      <td>0.716102</td>\n",
       "      <td>3.803054</td>\n",
       "      <td>201.050337</td>\n",
       "      <td>3.498233</td>\n",
       "      <td>0.144610</td>\n",
       "      <td>0.238083</td>\n",
       "    </tr>\n",
       "    <tr>\n",
       "      <th>1</th>\n",
       "      <td>Медиана</td>\n",
       "      <td>0.640000</td>\n",
       "      <td>0.720000</td>\n",
       "      <td>4.000000</td>\n",
       "      <td>200.000000</td>\n",
       "      <td>3.000000</td>\n",
       "      <td>0.000000</td>\n",
       "      <td>0.000000</td>\n",
       "    </tr>\n",
       "    <tr>\n",
       "      <th>2</th>\n",
       "      <td>Мода</td>\n",
       "      <td>0.100000</td>\n",
       "      <td>0.550000</td>\n",
       "      <td>4.000000</td>\n",
       "      <td>135.000000</td>\n",
       "      <td>3.000000</td>\n",
       "      <td>0.000000</td>\n",
       "      <td>0.000000</td>\n",
       "    </tr>\n",
       "    <tr>\n",
       "      <th>3</th>\n",
       "      <td>Минимальное</td>\n",
       "      <td>0.090000</td>\n",
       "      <td>0.360000</td>\n",
       "      <td>2.000000</td>\n",
       "      <td>96.000000</td>\n",
       "      <td>2.000000</td>\n",
       "      <td>0.000000</td>\n",
       "      <td>0.000000</td>\n",
       "    </tr>\n",
       "    <tr>\n",
       "      <th>4</th>\n",
       "      <td>Максимальное</td>\n",
       "      <td>1.000000</td>\n",
       "      <td>1.000000</td>\n",
       "      <td>7.000000</td>\n",
       "      <td>310.000000</td>\n",
       "      <td>10.000000</td>\n",
       "      <td>1.000000</td>\n",
       "      <td>1.000000</td>\n",
       "    </tr>\n",
       "    <tr>\n",
       "      <th>5</th>\n",
       "      <td>Сред. отклонение</td>\n",
       "      <td>0.248631</td>\n",
       "      <td>0.171169</td>\n",
       "      <td>1.232592</td>\n",
       "      <td>49.943099</td>\n",
       "      <td>1.460136</td>\n",
       "      <td>0.351719</td>\n",
       "      <td>0.425924</td>\n",
       "    </tr>\n",
       "  </tbody>\n",
       "</table>\n",
       "</div>"
      ],
      "text/plain": [
       "            metrics  satisfaction_level  last_evaluation  number_project  \\\n",
       "0           Среднее            0.612834         0.716102        3.803054   \n",
       "1           Медиана            0.640000         0.720000        4.000000   \n",
       "2              Мода            0.100000         0.550000        4.000000   \n",
       "3       Минимальное            0.090000         0.360000        2.000000   \n",
       "4      Максимальное            1.000000         1.000000        7.000000   \n",
       "5  Сред. отклонение            0.248631         0.171169        1.232592   \n",
       "\n",
       "   average_montly_hours  time_spend_company  Work_accident      left  \n",
       "0            201.050337            3.498233       0.144610  0.238083  \n",
       "1            200.000000            3.000000       0.000000  0.000000  \n",
       "2            135.000000            3.000000       0.000000  0.000000  \n",
       "3             96.000000            2.000000       0.000000  0.000000  \n",
       "4            310.000000           10.000000       1.000000  1.000000  \n",
       "5             49.943099            1.460136       0.351719  0.425924  "
      ]
     },
     "execution_count": 4,
     "metadata": {},
     "output_type": "execute_result"
    }
   ],
   "source": [
    "dictionary = {} # Создаем словарь, который будем наполнять метриками\n",
    "\n",
    "# Создаем будущий первый столбец с наименованиями метрик\n",
    "\n",
    "dictionary['metrics'] = ['Среднее', 'Медиана', 'Мода', 'Минимальное', 'Максимальное', 'Сред. отклонение']\n",
    "\n",
    "for x in data.columns.values[0:7]: # Вычисляем метрики для каждого столбца имеющего количественные переменные\n",
    "    dictionary[x] = [data[x].mean(), data[x].median(), data[x].mode()[0], data[x].min(), data[x].max(), data[x].std()]\n",
    "\n",
    "metrics = pd.DataFrame(dictionary) # Преобразуем наш словарь в датафрей pandas\n",
    "\n",
    "metrics # Выводим получившиеся данные"
   ]
  },
  {
   "cell_type": "markdown",
   "id": "aea00e7f",
   "metadata": {},
   "source": [
    "### 3 - Рассчитайте и визуализируйте корреляционную матрицу для количественных переменных. Определите две самые скоррелированные и две наименее скоррелированные переменные."
   ]
  },
  {
   "cell_type": "code",
   "execution_count": 5,
   "id": "2b6221f9",
   "metadata": {
    "scrolled": true
   },
   "outputs": [
    {
     "data": {
      "text/html": [
       "<div>\n",
       "<style scoped>\n",
       "    .dataframe tbody tr th:only-of-type {\n",
       "        vertical-align: middle;\n",
       "    }\n",
       "\n",
       "    .dataframe tbody tr th {\n",
       "        vertical-align: top;\n",
       "    }\n",
       "\n",
       "    .dataframe thead th {\n",
       "        text-align: right;\n",
       "    }\n",
       "</style>\n",
       "<table border=\"1\" class=\"dataframe\">\n",
       "  <thead>\n",
       "    <tr style=\"text-align: right;\">\n",
       "      <th></th>\n",
       "      <th>satisfaction_level</th>\n",
       "      <th>last_evaluation</th>\n",
       "      <th>number_project</th>\n",
       "      <th>average_montly_hours</th>\n",
       "      <th>time_spend_company</th>\n",
       "      <th>Work_accident</th>\n",
       "      <th>left</th>\n",
       "      <th>promotion_last_5years</th>\n",
       "    </tr>\n",
       "  </thead>\n",
       "  <tbody>\n",
       "    <tr>\n",
       "      <th>satisfaction_level</th>\n",
       "      <td>1.000000</td>\n",
       "      <td>0.105021</td>\n",
       "      <td>-0.142970</td>\n",
       "      <td>-0.020048</td>\n",
       "      <td>-0.100866</td>\n",
       "      <td>0.058697</td>\n",
       "      <td>-0.388375</td>\n",
       "      <td>0.025605</td>\n",
       "    </tr>\n",
       "    <tr>\n",
       "      <th>last_evaluation</th>\n",
       "      <td>0.105021</td>\n",
       "      <td>1.000000</td>\n",
       "      <td>0.349333</td>\n",
       "      <td>0.339742</td>\n",
       "      <td>0.131591</td>\n",
       "      <td>-0.007104</td>\n",
       "      <td>0.006567</td>\n",
       "      <td>-0.008684</td>\n",
       "    </tr>\n",
       "    <tr>\n",
       "      <th>number_project</th>\n",
       "      <td>-0.142970</td>\n",
       "      <td>0.349333</td>\n",
       "      <td>1.000000</td>\n",
       "      <td>0.417211</td>\n",
       "      <td>0.196786</td>\n",
       "      <td>-0.004741</td>\n",
       "      <td>0.023787</td>\n",
       "      <td>-0.006064</td>\n",
       "    </tr>\n",
       "    <tr>\n",
       "      <th>average_montly_hours</th>\n",
       "      <td>-0.020048</td>\n",
       "      <td>0.339742</td>\n",
       "      <td>0.417211</td>\n",
       "      <td>1.000000</td>\n",
       "      <td>0.127755</td>\n",
       "      <td>-0.010143</td>\n",
       "      <td>0.071287</td>\n",
       "      <td>-0.003544</td>\n",
       "    </tr>\n",
       "    <tr>\n",
       "      <th>time_spend_company</th>\n",
       "      <td>-0.100866</td>\n",
       "      <td>0.131591</td>\n",
       "      <td>0.196786</td>\n",
       "      <td>0.127755</td>\n",
       "      <td>1.000000</td>\n",
       "      <td>0.002120</td>\n",
       "      <td>0.144822</td>\n",
       "      <td>0.067433</td>\n",
       "    </tr>\n",
       "    <tr>\n",
       "      <th>Work_accident</th>\n",
       "      <td>0.058697</td>\n",
       "      <td>-0.007104</td>\n",
       "      <td>-0.004741</td>\n",
       "      <td>-0.010143</td>\n",
       "      <td>0.002120</td>\n",
       "      <td>1.000000</td>\n",
       "      <td>-0.154622</td>\n",
       "      <td>0.039245</td>\n",
       "    </tr>\n",
       "    <tr>\n",
       "      <th>left</th>\n",
       "      <td>-0.388375</td>\n",
       "      <td>0.006567</td>\n",
       "      <td>0.023787</td>\n",
       "      <td>0.071287</td>\n",
       "      <td>0.144822</td>\n",
       "      <td>-0.154622</td>\n",
       "      <td>1.000000</td>\n",
       "      <td>-0.061788</td>\n",
       "    </tr>\n",
       "    <tr>\n",
       "      <th>promotion_last_5years</th>\n",
       "      <td>0.025605</td>\n",
       "      <td>-0.008684</td>\n",
       "      <td>-0.006064</td>\n",
       "      <td>-0.003544</td>\n",
       "      <td>0.067433</td>\n",
       "      <td>0.039245</td>\n",
       "      <td>-0.061788</td>\n",
       "      <td>1.000000</td>\n",
       "    </tr>\n",
       "  </tbody>\n",
       "</table>\n",
       "</div>"
      ],
      "text/plain": [
       "                       satisfaction_level  last_evaluation  number_project  \\\n",
       "satisfaction_level               1.000000         0.105021       -0.142970   \n",
       "last_evaluation                  0.105021         1.000000        0.349333   \n",
       "number_project                  -0.142970         0.349333        1.000000   \n",
       "average_montly_hours            -0.020048         0.339742        0.417211   \n",
       "time_spend_company              -0.100866         0.131591        0.196786   \n",
       "Work_accident                    0.058697        -0.007104       -0.004741   \n",
       "left                            -0.388375         0.006567        0.023787   \n",
       "promotion_last_5years            0.025605        -0.008684       -0.006064   \n",
       "\n",
       "                       average_montly_hours  time_spend_company  \\\n",
       "satisfaction_level                -0.020048           -0.100866   \n",
       "last_evaluation                    0.339742            0.131591   \n",
       "number_project                     0.417211            0.196786   \n",
       "average_montly_hours               1.000000            0.127755   \n",
       "time_spend_company                 0.127755            1.000000   \n",
       "Work_accident                     -0.010143            0.002120   \n",
       "left                               0.071287            0.144822   \n",
       "promotion_last_5years             -0.003544            0.067433   \n",
       "\n",
       "                       Work_accident      left  promotion_last_5years  \n",
       "satisfaction_level          0.058697 -0.388375               0.025605  \n",
       "last_evaluation            -0.007104  0.006567              -0.008684  \n",
       "number_project             -0.004741  0.023787              -0.006064  \n",
       "average_montly_hours       -0.010143  0.071287              -0.003544  \n",
       "time_spend_company          0.002120  0.144822               0.067433  \n",
       "Work_accident               1.000000 -0.154622               0.039245  \n",
       "left                       -0.154622  1.000000              -0.061788  \n",
       "promotion_last_5years       0.039245 -0.061788               1.000000  "
      ]
     },
     "execution_count": 5,
     "metadata": {},
     "output_type": "execute_result"
    }
   ],
   "source": [
    "data.corr() # Строим корреляционную матрицу (коэффициент Пирсона)"
   ]
  },
  {
   "cell_type": "code",
   "execution_count": 6,
   "id": "d2f2d514",
   "metadata": {
    "scrolled": true
   },
   "outputs": [
    {
     "data": {
      "text/html": [
       "<div>\n",
       "<style scoped>\n",
       "    .dataframe tbody tr th:only-of-type {\n",
       "        vertical-align: middle;\n",
       "    }\n",
       "\n",
       "    .dataframe tbody tr th {\n",
       "        vertical-align: top;\n",
       "    }\n",
       "\n",
       "    .dataframe thead th {\n",
       "        text-align: right;\n",
       "    }\n",
       "</style>\n",
       "<table border=\"1\" class=\"dataframe\">\n",
       "  <thead>\n",
       "    <tr style=\"text-align: right;\">\n",
       "      <th></th>\n",
       "      <th>satisfaction_level</th>\n",
       "      <th>last_evaluation</th>\n",
       "      <th>number_project</th>\n",
       "      <th>average_montly_hours</th>\n",
       "      <th>time_spend_company</th>\n",
       "      <th>Work_accident</th>\n",
       "      <th>left</th>\n",
       "      <th>promotion_last_5years</th>\n",
       "    </tr>\n",
       "  </thead>\n",
       "  <tbody>\n",
       "    <tr>\n",
       "      <th>satisfaction_level</th>\n",
       "      <td>1.000000</td>\n",
       "      <td>0.162407</td>\n",
       "      <td>0.005786</td>\n",
       "      <td>0.062000</td>\n",
       "      <td>-0.139428</td>\n",
       "      <td>0.056333</td>\n",
       "      <td>-0.365842</td>\n",
       "      <td>0.022306</td>\n",
       "    </tr>\n",
       "    <tr>\n",
       "      <th>last_evaluation</th>\n",
       "      <td>0.162407</td>\n",
       "      <td>1.000000</td>\n",
       "      <td>0.350399</td>\n",
       "      <td>0.342061</td>\n",
       "      <td>0.161154</td>\n",
       "      <td>-0.005767</td>\n",
       "      <td>-0.002440</td>\n",
       "      <td>-0.007167</td>\n",
       "    </tr>\n",
       "    <tr>\n",
       "      <th>number_project</th>\n",
       "      <td>0.005786</td>\n",
       "      <td>0.350399</td>\n",
       "      <td>1.000000</td>\n",
       "      <td>0.397855</td>\n",
       "      <td>0.251971</td>\n",
       "      <td>0.002328</td>\n",
       "      <td>-0.019544</td>\n",
       "      <td>-0.002960</td>\n",
       "    </tr>\n",
       "    <tr>\n",
       "      <th>average_montly_hours</th>\n",
       "      <td>0.062000</td>\n",
       "      <td>0.342061</td>\n",
       "      <td>0.397855</td>\n",
       "      <td>1.000000</td>\n",
       "      <td>0.168750</td>\n",
       "      <td>-0.006063</td>\n",
       "      <td>0.046455</td>\n",
       "      <td>-0.002951</td>\n",
       "    </tr>\n",
       "    <tr>\n",
       "      <th>time_spend_company</th>\n",
       "      <td>-0.139428</td>\n",
       "      <td>0.161154</td>\n",
       "      <td>0.251971</td>\n",
       "      <td>0.168750</td>\n",
       "      <td>1.000000</td>\n",
       "      <td>-0.027277</td>\n",
       "      <td>0.268876</td>\n",
       "      <td>0.035205</td>\n",
       "    </tr>\n",
       "    <tr>\n",
       "      <th>Work_accident</th>\n",
       "      <td>0.056333</td>\n",
       "      <td>-0.005767</td>\n",
       "      <td>0.002328</td>\n",
       "      <td>-0.006063</td>\n",
       "      <td>-0.027277</td>\n",
       "      <td>1.000000</td>\n",
       "      <td>-0.154622</td>\n",
       "      <td>0.039245</td>\n",
       "    </tr>\n",
       "    <tr>\n",
       "      <th>left</th>\n",
       "      <td>-0.365842</td>\n",
       "      <td>-0.002440</td>\n",
       "      <td>-0.019544</td>\n",
       "      <td>0.046455</td>\n",
       "      <td>0.268876</td>\n",
       "      <td>-0.154622</td>\n",
       "      <td>1.000000</td>\n",
       "      <td>-0.061788</td>\n",
       "    </tr>\n",
       "    <tr>\n",
       "      <th>promotion_last_5years</th>\n",
       "      <td>0.022306</td>\n",
       "      <td>-0.007167</td>\n",
       "      <td>-0.002960</td>\n",
       "      <td>-0.002951</td>\n",
       "      <td>0.035205</td>\n",
       "      <td>0.039245</td>\n",
       "      <td>-0.061788</td>\n",
       "      <td>1.000000</td>\n",
       "    </tr>\n",
       "  </tbody>\n",
       "</table>\n",
       "</div>"
      ],
      "text/plain": [
       "                       satisfaction_level  last_evaluation  number_project  \\\n",
       "satisfaction_level               1.000000         0.162407        0.005786   \n",
       "last_evaluation                  0.162407         1.000000        0.350399   \n",
       "number_project                   0.005786         0.350399        1.000000   \n",
       "average_montly_hours             0.062000         0.342061        0.397855   \n",
       "time_spend_company              -0.139428         0.161154        0.251971   \n",
       "Work_accident                    0.056333        -0.005767        0.002328   \n",
       "left                            -0.365842        -0.002440       -0.019544   \n",
       "promotion_last_5years            0.022306        -0.007167       -0.002960   \n",
       "\n",
       "                       average_montly_hours  time_spend_company  \\\n",
       "satisfaction_level                 0.062000           -0.139428   \n",
       "last_evaluation                    0.342061            0.161154   \n",
       "number_project                     0.397855            0.251971   \n",
       "average_montly_hours               1.000000            0.168750   \n",
       "time_spend_company                 0.168750            1.000000   \n",
       "Work_accident                     -0.006063           -0.027277   \n",
       "left                               0.046455            0.268876   \n",
       "promotion_last_5years             -0.002951            0.035205   \n",
       "\n",
       "                       Work_accident      left  promotion_last_5years  \n",
       "satisfaction_level          0.056333 -0.365842               0.022306  \n",
       "last_evaluation            -0.005767 -0.002440              -0.007167  \n",
       "number_project              0.002328 -0.019544              -0.002960  \n",
       "average_montly_hours       -0.006063  0.046455              -0.002951  \n",
       "time_spend_company         -0.027277  0.268876               0.035205  \n",
       "Work_accident               1.000000 -0.154622               0.039245  \n",
       "left                       -0.154622  1.000000              -0.061788  \n",
       "promotion_last_5years       0.039245 -0.061788               1.000000  "
      ]
     },
     "execution_count": 6,
     "metadata": {},
     "output_type": "execute_result"
    }
   ],
   "source": [
    "data.corr(method='spearman') # Строим корреляционную матрицу (коэффициент Спирмана)"
   ]
  },
  {
   "cell_type": "code",
   "execution_count": 7,
   "id": "30131f79",
   "metadata": {},
   "outputs": [],
   "source": [
    "from pylab import rcParams # Импортируем параметры\n",
    "\n",
    "rcParams['figure.figsize'] = [8.0, 8.0] # Задаем размер для визуализаций"
   ]
  },
  {
   "cell_type": "code",
   "execution_count": 8,
   "id": "349e6e0b",
   "metadata": {},
   "outputs": [],
   "source": [
    "import seaborn as sns # Импортируем библиотеку seaborn"
   ]
  },
  {
   "cell_type": "code",
   "execution_count": 9,
   "id": "7689fda2",
   "metadata": {},
   "outputs": [
    {
     "data": {
      "text/plain": [
       "<AxesSubplot:>"
      ]
     },
     "execution_count": 9,
     "metadata": {},
     "output_type": "execute_result"
    },
    {
     "data": {
      "image/png": "[encoded data removed]",
      "text/plain": [
       "<Figure size 576x576 with 2 Axes>"
      ]
     },
     "metadata": {
      "needs_background": "light"
     },
     "output_type": "display_data"
    }
   ],
   "source": [
    "sns.heatmap(data.corr(), annot=True, annot_kws={\"size\": 10}) # Создаем тепловую карту (коэффициент Пирсона)"
   ]
  },
  {
   "cell_type": "code",
   "execution_count": 10,
   "id": "e58dbcd1",
   "metadata": {},
   "outputs": [
    {
     "data": {
      "text/plain": [
       "<AxesSubplot:>"
      ]
     },
     "execution_count": 10,
     "metadata": {},
     "output_type": "execute_result"
    },
    {
     "data": {
      "image/png": "[encoded data removed]",
      "text/plain": [
       "<Figure size 576x576 with 2 Axes>"
      ]
     },
     "metadata": {
      "needs_background": "light"
     },
     "output_type": "display_data"
    }
   ],
   "source": [
    "sns.heatmap(data.corr(method='spearman'), annot=True, annot_kws={\"size\": 10}) # Создаем тепловую карту (коэффициент Спирмана)"
   ]
  },
  {
   "cell_type": "markdown",
   "id": "a23138f9",
   "metadata": {},
   "source": [
    "Исходя из полученной тепловой карты и коэффициентах корреляции две самые скоррелированные переменные:  \n",
    "  \n",
    "number_project и average_montly_hours  \n",
    "  \n",
    "Две наименее скоррелированные переменные:  \n",
    "  \n",
    "work_accident и time_spend_company (Пирсон)\n",
    "  \n",
    "work_accident и number_project (Спирман)"
   ]
  },
  {
   "cell_type": "markdown",
   "id": "19a66e74",
   "metadata": {},
   "source": [
    "### 4 - Рассчитайте сколько сотрудников работает в каждом департаменте."
   ]
  },
  {
   "cell_type": "code",
   "execution_count": 11,
   "id": "cbb3b414",
   "metadata": {},
   "outputs": [
    {
     "data": {
      "text/html": [
       "<div>\n",
       "<style scoped>\n",
       "    .dataframe tbody tr th:only-of-type {\n",
       "        vertical-align: middle;\n",
       "    }\n",
       "\n",
       "    .dataframe tbody tr th {\n",
       "        vertical-align: top;\n",
       "    }\n",
       "\n",
       "    .dataframe thead th {\n",
       "        text-align: right;\n",
       "    }\n",
       "</style>\n",
       "<table border=\"1\" class=\"dataframe\">\n",
       "  <thead>\n",
       "    <tr style=\"text-align: right;\">\n",
       "      <th></th>\n",
       "      <th>department</th>\n",
       "      <th>employees</th>\n",
       "    </tr>\n",
       "  </thead>\n",
       "  <tbody>\n",
       "    <tr>\n",
       "      <th>0</th>\n",
       "      <td>IT</td>\n",
       "      <td>1227</td>\n",
       "    </tr>\n",
       "    <tr>\n",
       "      <th>1</th>\n",
       "      <td>RandD</td>\n",
       "      <td>787</td>\n",
       "    </tr>\n",
       "    <tr>\n",
       "      <th>2</th>\n",
       "      <td>accounting</td>\n",
       "      <td>767</td>\n",
       "    </tr>\n",
       "    <tr>\n",
       "      <th>3</th>\n",
       "      <td>hr</td>\n",
       "      <td>739</td>\n",
       "    </tr>\n",
       "    <tr>\n",
       "      <th>4</th>\n",
       "      <td>management</td>\n",
       "      <td>630</td>\n",
       "    </tr>\n",
       "    <tr>\n",
       "      <th>5</th>\n",
       "      <td>marketing</td>\n",
       "      <td>858</td>\n",
       "    </tr>\n",
       "    <tr>\n",
       "      <th>6</th>\n",
       "      <td>product_mng</td>\n",
       "      <td>902</td>\n",
       "    </tr>\n",
       "    <tr>\n",
       "      <th>7</th>\n",
       "      <td>sales</td>\n",
       "      <td>4140</td>\n",
       "    </tr>\n",
       "    <tr>\n",
       "      <th>8</th>\n",
       "      <td>support</td>\n",
       "      <td>2229</td>\n",
       "    </tr>\n",
       "    <tr>\n",
       "      <th>9</th>\n",
       "      <td>technical</td>\n",
       "      <td>2720</td>\n",
       "    </tr>\n",
       "  </tbody>\n",
       "</table>\n",
       "</div>"
      ],
      "text/plain": [
       "    department  employees\n",
       "0           IT       1227\n",
       "1        RandD        787\n",
       "2   accounting        767\n",
       "3           hr        739\n",
       "4   management        630\n",
       "5    marketing        858\n",
       "6  product_mng        902\n",
       "7        sales       4140\n",
       "8      support       2229\n",
       "9    technical       2720"
      ]
     },
     "execution_count": 11,
     "metadata": {},
     "output_type": "execute_result"
    }
   ],
   "source": [
    "# Группируем наш датасет по столбцу department и считаем количество значений в любом другом столбце (пропусков нет)\n",
    "\n",
    "department = data.groupby('department').count()[['salary']].reset_index().rename({'salary': 'employees'}, axis=1)\n",
    "\n",
    "department"
   ]
  },
  {
   "cell_type": "markdown",
   "id": "849eeb85",
   "metadata": {},
   "source": [
    "### 5 - Показать распределение сотрудников по зарплатам."
   ]
  },
  {
   "cell_type": "code",
   "execution_count": 12,
   "id": "5e2ac6b9",
   "metadata": {},
   "outputs": [
    {
     "data": {
      "text/html": [
       "<div>\n",
       "<style scoped>\n",
       "    .dataframe tbody tr th:only-of-type {\n",
       "        vertical-align: middle;\n",
       "    }\n",
       "\n",
       "    .dataframe tbody tr th {\n",
       "        vertical-align: top;\n",
       "    }\n",
       "\n",
       "    .dataframe thead th {\n",
       "        text-align: right;\n",
       "    }\n",
       "</style>\n",
       "<table border=\"1\" class=\"dataframe\">\n",
       "  <thead>\n",
       "    <tr style=\"text-align: right;\">\n",
       "      <th></th>\n",
       "      <th>salary</th>\n",
       "      <th>employees</th>\n",
       "    </tr>\n",
       "  </thead>\n",
       "  <tbody>\n",
       "    <tr>\n",
       "      <th>0</th>\n",
       "      <td>high</td>\n",
       "      <td>1237</td>\n",
       "    </tr>\n",
       "    <tr>\n",
       "      <th>1</th>\n",
       "      <td>low</td>\n",
       "      <td>7316</td>\n",
       "    </tr>\n",
       "    <tr>\n",
       "      <th>2</th>\n",
       "      <td>medium</td>\n",
       "      <td>6446</td>\n",
       "    </tr>\n",
       "  </tbody>\n",
       "</table>\n",
       "</div>"
      ],
      "text/plain": [
       "   salary  employees\n",
       "0    high       1237\n",
       "1     low       7316\n",
       "2  medium       6446"
      ]
     },
     "execution_count": 12,
     "metadata": {},
     "output_type": "execute_result"
    }
   ],
   "source": [
    "# Группируем наш датасет по столбцу salary и считаем количество значений в любом другом столбце (пропусков нет)\n",
    "\n",
    "salary = data.groupby('salary').count()[['department']].reset_index().rename({'department': 'employees'}, axis=1)\n",
    "\n",
    "salary"
   ]
  },
  {
   "cell_type": "code",
   "execution_count": 13,
   "id": "73a932d8",
   "metadata": {},
   "outputs": [],
   "source": [
    "import numpy as np # Импортируем библиотеку numpy"
   ]
  },
  {
   "cell_type": "code",
   "execution_count": 14,
   "id": "7e81faed",
   "metadata": {},
   "outputs": [
    {
     "data": {
      "text/html": [
       "<div>\n",
       "<style scoped>\n",
       "    .dataframe tbody tr th:only-of-type {\n",
       "        vertical-align: middle;\n",
       "    }\n",
       "\n",
       "    .dataframe tbody tr th {\n",
       "        vertical-align: top;\n",
       "    }\n",
       "\n",
       "    .dataframe thead th {\n",
       "        text-align: right;\n",
       "    }\n",
       "</style>\n",
       "<table border=\"1\" class=\"dataframe\">\n",
       "  <thead>\n",
       "    <tr style=\"text-align: right;\">\n",
       "      <th></th>\n",
       "      <th>salary</th>\n",
       "      <th>employees</th>\n",
       "    </tr>\n",
       "  </thead>\n",
       "  <tbody>\n",
       "    <tr>\n",
       "      <th>0</th>\n",
       "      <td>high</td>\n",
       "      <td>1237</td>\n",
       "    </tr>\n",
       "    <tr>\n",
       "      <th>1</th>\n",
       "      <td>medium</td>\n",
       "      <td>6446</td>\n",
       "    </tr>\n",
       "    <tr>\n",
       "      <th>2</th>\n",
       "      <td>low</td>\n",
       "      <td>7316</td>\n",
       "    </tr>\n",
       "  </tbody>\n",
       "</table>\n",
       "</div>"
      ],
      "text/plain": [
       "   salary  employees\n",
       "0    high       1237\n",
       "1  medium       6446\n",
       "2     low       7316"
      ]
     },
     "execution_count": 14,
     "metadata": {},
     "output_type": "execute_result"
    }
   ],
   "source": [
    "# Небольшая сортировка наших данных (можно было сортировать по столбцу employees, но я проработал для себя другой вариант:\n",
    "# на случай если сортировка по employees меня не устраивала бы)\n",
    "\n",
    "salary['number'] = np.where(salary['salary'] == 'low', 1, np.where(salary['salary'] == 'medium', 2, 3))\n",
    "\n",
    "salary = salary.sort_values(['number'], ascending=False).reset_index().drop(['index', 'number'], axis=1)\n",
    "\n",
    "salary"
   ]
  },
  {
   "cell_type": "code",
   "execution_count": 15,
   "id": "1010d52b",
   "metadata": {},
   "outputs": [],
   "source": [
    "import matplotlib.pyplot as plt # Импортируем библиотеку matplotlib"
   ]
  },
  {
   "cell_type": "code",
   "execution_count": 16,
   "id": "80813a14",
   "metadata": {},
   "outputs": [],
   "source": [
    "rcParams['figure.figsize'] = [5.0, 5.0] # Задаем размер для визуализаций"
   ]
  },
  {
   "cell_type": "code",
   "execution_count": 17,
   "id": "43c7c75e",
   "metadata": {
    "scrolled": true
   },
   "outputs": [
    {
     "data": {
      "image/png": "[encoded data removed]",
      "text/plain": [
       "<Figure size 360x360 with 1 Axes>"
      ]
     },
     "metadata": {
      "needs_background": "light"
     },
     "output_type": "display_data"
    }
   ],
   "source": [
    "plt.bar(salary['salary'], salary['employees']) # Строим нашу визуализацию с помощью библиотеки matplotlib\n",
    "\n",
    "plt.xticks(salary['salary']) # Задаем подписи категорий для оси X\n",
    "\n",
    "plt.xlabel(\"salary\")\n",
    "plt.ylabel(\"employees\")\n",
    "\n",
    "plt.show()"
   ]
  },
  {
   "cell_type": "markdown",
   "id": "328c6747",
   "metadata": {},
   "source": [
    "### 6 - Показать распределение сотрудников по зарплатам в каждом департаменте по отдельности"
   ]
  },
  {
   "cell_type": "code",
   "execution_count": 18,
   "id": "89cecdcc",
   "metadata": {},
   "outputs": [
    {
     "data": {
      "text/html": [
       "<div>\n",
       "<style scoped>\n",
       "    .dataframe tbody tr th:only-of-type {\n",
       "        vertical-align: middle;\n",
       "    }\n",
       "\n",
       "    .dataframe tbody tr th {\n",
       "        vertical-align: top;\n",
       "    }\n",
       "\n",
       "    .dataframe thead th {\n",
       "        text-align: right;\n",
       "    }\n",
       "</style>\n",
       "<table border=\"1\" class=\"dataframe\">\n",
       "  <thead>\n",
       "    <tr style=\"text-align: right;\">\n",
       "      <th></th>\n",
       "      <th>department</th>\n",
       "      <th>salary</th>\n",
       "      <th>employees</th>\n",
       "    </tr>\n",
       "  </thead>\n",
       "  <tbody>\n",
       "    <tr>\n",
       "      <th>0</th>\n",
       "      <td>IT</td>\n",
       "      <td>high</td>\n",
       "      <td>83</td>\n",
       "    </tr>\n",
       "    <tr>\n",
       "      <th>1</th>\n",
       "      <td>IT</td>\n",
       "      <td>low</td>\n",
       "      <td>609</td>\n",
       "    </tr>\n",
       "    <tr>\n",
       "      <th>2</th>\n",
       "      <td>IT</td>\n",
       "      <td>medium</td>\n",
       "      <td>535</td>\n",
       "    </tr>\n",
       "    <tr>\n",
       "      <th>3</th>\n",
       "      <td>RandD</td>\n",
       "      <td>high</td>\n",
       "      <td>51</td>\n",
       "    </tr>\n",
       "    <tr>\n",
       "      <th>4</th>\n",
       "      <td>RandD</td>\n",
       "      <td>low</td>\n",
       "      <td>364</td>\n",
       "    </tr>\n",
       "  </tbody>\n",
       "</table>\n",
       "</div>"
      ],
      "text/plain": [
       "  department  salary  employees\n",
       "0         IT    high         83\n",
       "1         IT     low        609\n",
       "2         IT  medium        535\n",
       "3      RandD    high         51\n",
       "4      RandD     low        364"
      ]
     },
     "execution_count": 18,
     "metadata": {},
     "output_type": "execute_result"
    }
   ],
   "source": [
    "# Группируем наш датасет по столбцам department и salary и считаем количество значений в любом другом столбце (пропусков нет)\n",
    "\n",
    "salary_dep = data.groupby(['department', 'salary']).count()[['satisfaction_level']].reset_index().rename({'satisfaction_level': 'employees'}, axis=1)\n",
    "\n",
    "salary_dep.head()"
   ]
  },
  {
   "cell_type": "code",
   "execution_count": 19,
   "id": "da651ee5",
   "metadata": {},
   "outputs": [
    {
     "data": {
      "text/html": [
       "<div>\n",
       "<style scoped>\n",
       "    .dataframe tbody tr th:only-of-type {\n",
       "        vertical-align: middle;\n",
       "    }\n",
       "\n",
       "    .dataframe tbody tr th {\n",
       "        vertical-align: top;\n",
       "    }\n",
       "\n",
       "    .dataframe thead th {\n",
       "        text-align: right;\n",
       "    }\n",
       "</style>\n",
       "<table border=\"1\" class=\"dataframe\">\n",
       "  <thead>\n",
       "    <tr style=\"text-align: right;\">\n",
       "      <th></th>\n",
       "      <th>department</th>\n",
       "      <th>salary</th>\n",
       "      <th>employees</th>\n",
       "    </tr>\n",
       "  </thead>\n",
       "  <tbody>\n",
       "    <tr>\n",
       "      <th>0</th>\n",
       "      <td>IT</td>\n",
       "      <td>high</td>\n",
       "      <td>83</td>\n",
       "    </tr>\n",
       "    <tr>\n",
       "      <th>1</th>\n",
       "      <td>hr</td>\n",
       "      <td>high</td>\n",
       "      <td>45</td>\n",
       "    </tr>\n",
       "    <tr>\n",
       "      <th>2</th>\n",
       "      <td>technical</td>\n",
       "      <td>high</td>\n",
       "      <td>201</td>\n",
       "    </tr>\n",
       "    <tr>\n",
       "      <th>3</th>\n",
       "      <td>support</td>\n",
       "      <td>high</td>\n",
       "      <td>141</td>\n",
       "    </tr>\n",
       "    <tr>\n",
       "      <th>4</th>\n",
       "      <td>sales</td>\n",
       "      <td>high</td>\n",
       "      <td>269</td>\n",
       "    </tr>\n",
       "  </tbody>\n",
       "</table>\n",
       "</div>"
      ],
      "text/plain": [
       "  department salary  employees\n",
       "0         IT   high         83\n",
       "1         hr   high         45\n",
       "2  technical   high        201\n",
       "3    support   high        141\n",
       "4      sales   high        269"
      ]
     },
     "execution_count": 19,
     "metadata": {},
     "output_type": "execute_result"
    }
   ],
   "source": [
    "# Небольшая сортировка наших данных (можно было сортировать по столбцу employees, но я проработал для себя другой вариант:\n",
    "# на случай если сортировка по employees меня не устраивала бы)\n",
    "\n",
    "salary_dep['number'] = np.where(salary_dep['salary'] == 'low', 1, np.where(salary_dep['salary'] == 'medium', 2, 3))\n",
    "\n",
    "salary_dep = salary_dep.sort_values(['number'], ascending=False).reset_index().drop(['index', 'number'], axis=1)\n",
    "\n",
    "salary_dep.head()"
   ]
  },
  {
   "cell_type": "code",
   "execution_count": 20,
   "id": "c656c875",
   "metadata": {},
   "outputs": [],
   "source": [
    "rcParams['figure.figsize'] = [15.0, 5.0] # Задаем размер для визуализаций"
   ]
  },
  {
   "cell_type": "code",
   "execution_count": 21,
   "id": "505a5a0b",
   "metadata": {},
   "outputs": [
    {
     "data": {
      "image/png": "[encoded data removed]",
      "text/plain": [
       "<Figure size 1080x360 with 1 Axes>"
      ]
     },
     "metadata": {
      "needs_background": "light"
     },
     "output_type": "display_data"
    }
   ],
   "source": [
    "# Строим нашу визуализацию с помощью библиотеки seaborn\n",
    "\n",
    "sns.barplot(x='department', y='employees', hue='salary', data=salary_dep, ci=None);"
   ]
  },
  {
   "cell_type": "markdown",
   "id": "3630727a",
   "metadata": {},
   "source": [
    "### 7 - Проверить гипотезу, что сотрудники с высоким окладом проводят на работе больше времени, чем сотрудники с низким окладом"
   ]
  },
  {
   "cell_type": "markdown",
   "id": "b65343d9",
   "metadata": {},
   "source": [
    "H0 - сотрудники с высоким окладом работают как и все остальные  \n",
    "H1 - сотрудники с высоким окладом проводят больше времени на работе, чем сотрудники с низким окладом  \n",
    "  \n",
    "Уровень значимости 0.03"
   ]
  },
  {
   "cell_type": "code",
   "execution_count": 22,
   "id": "f8198cf2",
   "metadata": {},
   "outputs": [],
   "source": [
    "a = 0.03 # Фиксируем уровень значимости"
   ]
  },
  {
   "cell_type": "code",
   "execution_count": 23,
   "id": "5cbd0704",
   "metadata": {
    "scrolled": true
   },
   "outputs": [],
   "source": [
    "# Подготовим данные для анализа, выберем все время работы сотрудников с низким окладом\n",
    "\n",
    "data_low = data[data['salary'] == 'low']['average_montly_hours'] \n",
    "\n",
    "# и все время работы сотрудников с высоким окладом\n",
    "\n",
    "data_high = data[data['salary'] == 'high']['average_montly_hours']"
   ]
  },
  {
   "cell_type": "code",
   "execution_count": 24,
   "id": "ca08de56",
   "metadata": {},
   "outputs": [],
   "source": [
    "import scipy as spy # Импортируем библиотеку scipy\n",
    "from scipy import stats # Из нее так же импортируем метод stats "
   ]
  },
  {
   "cell_type": "code",
   "execution_count": 25,
   "id": "61863276",
   "metadata": {
    "scrolled": true
   },
   "outputs": [
    {
     "name": "stdout",
     "output_type": "stream",
     "text": [
      "T-test:  0.7624331665385475 , p-value:  0.4459045542257889\n",
      "\n",
      "Гипотеза о зависимости между временем работы и величиной оклада не подтверждена\n"
     ]
    }
   ],
   "source": [
    "t, p_value = stats.ttest_ind(a=data_low, b=data_high, equal_var=False) #Используем критерий Стьюдента (t-test)\n",
    "\n",
    "print('T-test: ', t, ', p-value: ', p_value)\n",
    "print()\n",
    "\n",
    "if p_value > a:\n",
    "    print('Гипотеза о зависимости между временем работы и величиной оклада не подтверждена')\n",
    "else:\n",
    "    print('Гипотеза о зависимости между временем работы и величиной оклада подтверждена')"
   ]
  },
  {
   "cell_type": "code",
   "execution_count": 26,
   "id": "1f1e3af0",
   "metadata": {},
   "outputs": [],
   "source": [
    "rcParams['figure.figsize'] = [5.0, 5.0] # Задаем размер для визуализаций"
   ]
  },
  {
   "cell_type": "code",
   "execution_count": 27,
   "id": "0c45ca83",
   "metadata": {},
   "outputs": [
    {
     "data": {
      "image/png": "[encoded data removed]",
      "text/plain": [
       "<Figure size 360x360 with 1 Axes>"
      ]
     },
     "metadata": {
      "needs_background": "light"
     },
     "output_type": "display_data"
    }
   ],
   "source": [
    "# Визуализируем наши выборки, чтобы показать несостоятельность нашей гипотезы\n",
    "\n",
    "plt.hist(data_low, bins=25, alpha=0.5); # Выборка low\n",
    "plt.hist(data_high, bins=25, alpha=0.5); # Выборка high\n",
    "\n",
    "plt.xlabel(\"average_montly_hours\")\n",
    "plt.ylabel(\"employees\")\n",
    "\n",
    "plt.show()"
   ]
  },
  {
   "cell_type": "markdown",
   "id": "85846917",
   "metadata": {},
   "source": [
    "### 8 - Рассчитать следующие показатели среди уволившихся и не уволившихся сотрудников (по отдельности):\n",
    "\n",
    "- ### Доля сотрудников с повышением за последние 5 лет\n",
    "- ### Средняя степень удовлетворенности\n",
    "- ### Среднее количество проектов"
   ]
  },
  {
   "cell_type": "code",
   "execution_count": 28,
   "id": "1ef17417",
   "metadata": {},
   "outputs": [
    {
     "data": {
      "text/html": [
       "<div>\n",
       "<style scoped>\n",
       "    .dataframe tbody tr th:only-of-type {\n",
       "        vertical-align: middle;\n",
       "    }\n",
       "\n",
       "    .dataframe tbody tr th {\n",
       "        vertical-align: top;\n",
       "    }\n",
       "\n",
       "    .dataframe thead th {\n",
       "        text-align: right;\n",
       "    }\n",
       "</style>\n",
       "<table border=\"1\" class=\"dataframe\">\n",
       "  <thead>\n",
       "    <tr style=\"text-align: right;\">\n",
       "      <th></th>\n",
       "      <th>satisfaction_level</th>\n",
       "      <th>last_evaluation</th>\n",
       "      <th>number_project</th>\n",
       "      <th>average_montly_hours</th>\n",
       "      <th>time_spend_company</th>\n",
       "      <th>Work_accident</th>\n",
       "      <th>left</th>\n",
       "      <th>promotion_last_5years</th>\n",
       "      <th>department</th>\n",
       "      <th>salary</th>\n",
       "    </tr>\n",
       "  </thead>\n",
       "  <tbody>\n",
       "    <tr>\n",
       "      <th>0</th>\n",
       "      <td>0.38</td>\n",
       "      <td>0.53</td>\n",
       "      <td>2</td>\n",
       "      <td>157</td>\n",
       "      <td>3</td>\n",
       "      <td>0</td>\n",
       "      <td>1</td>\n",
       "      <td>0</td>\n",
       "      <td>sales</td>\n",
       "      <td>low</td>\n",
       "    </tr>\n",
       "    <tr>\n",
       "      <th>1</th>\n",
       "      <td>0.80</td>\n",
       "      <td>0.86</td>\n",
       "      <td>5</td>\n",
       "      <td>262</td>\n",
       "      <td>6</td>\n",
       "      <td>0</td>\n",
       "      <td>1</td>\n",
       "      <td>0</td>\n",
       "      <td>sales</td>\n",
       "      <td>medium</td>\n",
       "    </tr>\n",
       "    <tr>\n",
       "      <th>2</th>\n",
       "      <td>0.11</td>\n",
       "      <td>0.88</td>\n",
       "      <td>7</td>\n",
       "      <td>272</td>\n",
       "      <td>4</td>\n",
       "      <td>0</td>\n",
       "      <td>1</td>\n",
       "      <td>0</td>\n",
       "      <td>sales</td>\n",
       "      <td>medium</td>\n",
       "    </tr>\n",
       "    <tr>\n",
       "      <th>3</th>\n",
       "      <td>0.72</td>\n",
       "      <td>0.87</td>\n",
       "      <td>5</td>\n",
       "      <td>223</td>\n",
       "      <td>5</td>\n",
       "      <td>0</td>\n",
       "      <td>1</td>\n",
       "      <td>0</td>\n",
       "      <td>sales</td>\n",
       "      <td>low</td>\n",
       "    </tr>\n",
       "    <tr>\n",
       "      <th>4</th>\n",
       "      <td>0.37</td>\n",
       "      <td>0.52</td>\n",
       "      <td>2</td>\n",
       "      <td>159</td>\n",
       "      <td>3</td>\n",
       "      <td>0</td>\n",
       "      <td>1</td>\n",
       "      <td>0</td>\n",
       "      <td>sales</td>\n",
       "      <td>low</td>\n",
       "    </tr>\n",
       "  </tbody>\n",
       "</table>\n",
       "</div>"
      ],
      "text/plain": [
       "   satisfaction_level  last_evaluation  number_project  average_montly_hours  \\\n",
       "0                0.38             0.53               2                   157   \n",
       "1                0.80             0.86               5                   262   \n",
       "2                0.11             0.88               7                   272   \n",
       "3                0.72             0.87               5                   223   \n",
       "4                0.37             0.52               2                   159   \n",
       "\n",
       "   time_spend_company  Work_accident  left  promotion_last_5years department  \\\n",
       "0                   3              0     1                      0      sales   \n",
       "1                   6              0     1                      0      sales   \n",
       "2                   4              0     1                      0      sales   \n",
       "3                   5              0     1                      0      sales   \n",
       "4                   3              0     1                      0      sales   \n",
       "\n",
       "   salary  \n",
       "0     low  \n",
       "1  medium  \n",
       "2  medium  \n",
       "3     low  \n",
       "4     low  "
      ]
     },
     "execution_count": 28,
     "metadata": {},
     "output_type": "execute_result"
    }
   ],
   "source": [
    "data_yes = data[data['left'].isin([1])] # Создадим датасет в котором оставим только уволившихся сотрудников\n",
    "\n",
    "data_yes.head()"
   ]
  },
  {
   "cell_type": "code",
   "execution_count": 29,
   "id": "ea9c0b70",
   "metadata": {
    "scrolled": true
   },
   "outputs": [
    {
     "data": {
      "text/html": [
       "<div>\n",
       "<style scoped>\n",
       "    .dataframe tbody tr th:only-of-type {\n",
       "        vertical-align: middle;\n",
       "    }\n",
       "\n",
       "    .dataframe tbody tr th {\n",
       "        vertical-align: top;\n",
       "    }\n",
       "\n",
       "    .dataframe thead th {\n",
       "        text-align: right;\n",
       "    }\n",
       "</style>\n",
       "<table border=\"1\" class=\"dataframe\">\n",
       "  <thead>\n",
       "    <tr style=\"text-align: right;\">\n",
       "      <th></th>\n",
       "      <th>satisfaction_level</th>\n",
       "      <th>last_evaluation</th>\n",
       "      <th>number_project</th>\n",
       "      <th>average_montly_hours</th>\n",
       "      <th>time_spend_company</th>\n",
       "      <th>Work_accident</th>\n",
       "      <th>left</th>\n",
       "      <th>promotion_last_5years</th>\n",
       "      <th>department</th>\n",
       "      <th>salary</th>\n",
       "    </tr>\n",
       "  </thead>\n",
       "  <tbody>\n",
       "    <tr>\n",
       "      <th>2000</th>\n",
       "      <td>0.58</td>\n",
       "      <td>0.74</td>\n",
       "      <td>4</td>\n",
       "      <td>215</td>\n",
       "      <td>3</td>\n",
       "      <td>0</td>\n",
       "      <td>0</td>\n",
       "      <td>0</td>\n",
       "      <td>sales</td>\n",
       "      <td>low</td>\n",
       "    </tr>\n",
       "    <tr>\n",
       "      <th>2001</th>\n",
       "      <td>0.82</td>\n",
       "      <td>0.67</td>\n",
       "      <td>2</td>\n",
       "      <td>202</td>\n",
       "      <td>3</td>\n",
       "      <td>0</td>\n",
       "      <td>0</td>\n",
       "      <td>0</td>\n",
       "      <td>sales</td>\n",
       "      <td>low</td>\n",
       "    </tr>\n",
       "    <tr>\n",
       "      <th>2002</th>\n",
       "      <td>0.45</td>\n",
       "      <td>0.69</td>\n",
       "      <td>5</td>\n",
       "      <td>193</td>\n",
       "      <td>3</td>\n",
       "      <td>0</td>\n",
       "      <td>0</td>\n",
       "      <td>0</td>\n",
       "      <td>sales</td>\n",
       "      <td>low</td>\n",
       "    </tr>\n",
       "    <tr>\n",
       "      <th>2003</th>\n",
       "      <td>0.78</td>\n",
       "      <td>0.82</td>\n",
       "      <td>5</td>\n",
       "      <td>247</td>\n",
       "      <td>3</td>\n",
       "      <td>0</td>\n",
       "      <td>0</td>\n",
       "      <td>0</td>\n",
       "      <td>sales</td>\n",
       "      <td>low</td>\n",
       "    </tr>\n",
       "    <tr>\n",
       "      <th>2004</th>\n",
       "      <td>0.49</td>\n",
       "      <td>0.60</td>\n",
       "      <td>3</td>\n",
       "      <td>214</td>\n",
       "      <td>2</td>\n",
       "      <td>0</td>\n",
       "      <td>0</td>\n",
       "      <td>0</td>\n",
       "      <td>sales</td>\n",
       "      <td>low</td>\n",
       "    </tr>\n",
       "  </tbody>\n",
       "</table>\n",
       "</div>"
      ],
      "text/plain": [
       "      satisfaction_level  last_evaluation  number_project  \\\n",
       "2000                0.58             0.74               4   \n",
       "2001                0.82             0.67               2   \n",
       "2002                0.45             0.69               5   \n",
       "2003                0.78             0.82               5   \n",
       "2004                0.49             0.60               3   \n",
       "\n",
       "      average_montly_hours  time_spend_company  Work_accident  left  \\\n",
       "2000                   215                   3              0     0   \n",
       "2001                   202                   3              0     0   \n",
       "2002                   193                   3              0     0   \n",
       "2003                   247                   3              0     0   \n",
       "2004                   214                   2              0     0   \n",
       "\n",
       "      promotion_last_5years department salary  \n",
       "2000                      0      sales    low  \n",
       "2001                      0      sales    low  \n",
       "2002                      0      sales    low  \n",
       "2003                      0      sales    low  \n",
       "2004                      0      sales    low  "
      ]
     },
     "execution_count": 29,
     "metadata": {},
     "output_type": "execute_result"
    }
   ],
   "source": [
    "data_no = data[data['left'].isin([0])] # И еще один для не уволившихся\n",
    "\n",
    "data_no.head()"
   ]
  },
  {
   "cell_type": "code",
   "execution_count": 30,
   "id": "db76e682",
   "metadata": {},
   "outputs": [],
   "source": [
    "List = [] # Создадим список который будем наполнять данными"
   ]
  },
  {
   "cell_type": "code",
   "execution_count": 31,
   "id": "d41afd1d",
   "metadata": {},
   "outputs": [],
   "source": [
    "# Доля сотрудников с повышением за последние 5 лет\n",
    "\n",
    "M1yes = round(data_yes[data_yes['promotion_last_5years'] == 1].shape[0] / data_yes['promotion_last_5years'].count(), 3)\n",
    "M1no = round(data_no[data_no['promotion_last_5years'] == 1].shape[0] / data_no['promotion_last_5years'].count(), 3)\n",
    "\n",
    "List.append(['Доля сотрудников с повышением за последние 5 лет', M1yes, M1no]) # Добавляем результаты в наш список"
   ]
  },
  {
   "cell_type": "code",
   "execution_count": 32,
   "id": "3bfefa8d",
   "metadata": {},
   "outputs": [],
   "source": [
    "# Средняя степень удовлетворенности\n",
    "\n",
    "M2yes = round(data_yes['satisfaction_level'].mean(), 2)\n",
    "M2no = round(data_no['satisfaction_level'].mean(), 2)\n",
    "\n",
    "List.append(['Средняя степень удовлетворенности', M2yes, M2no]) # Добавляем результаты в наш список"
   ]
  },
  {
   "cell_type": "code",
   "execution_count": 33,
   "id": "20642e7c",
   "metadata": {},
   "outputs": [],
   "source": [
    "# Среднее количество проектов\n",
    "\n",
    "M3yes = round(data_yes['number_project'].mean(), 2)\n",
    "M3no = round(data_no['number_project'].mean(), 2)\n",
    "\n",
    "List.append(['Среднее количество проектов', M3yes, M3no]) # Добавляем результаты в наш список"
   ]
  },
  {
   "cell_type": "code",
   "execution_count": 34,
   "id": "35094e9b",
   "metadata": {},
   "outputs": [
    {
     "data": {
      "text/html": [
       "<div>\n",
       "<style scoped>\n",
       "    .dataframe tbody tr th:only-of-type {\n",
       "        vertical-align: middle;\n",
       "    }\n",
       "\n",
       "    .dataframe tbody tr th {\n",
       "        vertical-align: top;\n",
       "    }\n",
       "\n",
       "    .dataframe thead th {\n",
       "        text-align: right;\n",
       "    }\n",
       "</style>\n",
       "<table border=\"1\" class=\"dataframe\">\n",
       "  <thead>\n",
       "    <tr style=\"text-align: right;\">\n",
       "      <th></th>\n",
       "      <th>Метрика</th>\n",
       "      <th>Для уволившихся</th>\n",
       "      <th>Для не уволившихся</th>\n",
       "    </tr>\n",
       "  </thead>\n",
       "  <tbody>\n",
       "    <tr>\n",
       "      <th>0</th>\n",
       "      <td>Доля сотрудников с повышением за последние 5 лет</td>\n",
       "      <td>0.005</td>\n",
       "      <td>0.026</td>\n",
       "    </tr>\n",
       "    <tr>\n",
       "      <th>1</th>\n",
       "      <td>Средняя степень удовлетворенности</td>\n",
       "      <td>0.440</td>\n",
       "      <td>0.670</td>\n",
       "    </tr>\n",
       "    <tr>\n",
       "      <th>2</th>\n",
       "      <td>Среднее количество проектов</td>\n",
       "      <td>3.860</td>\n",
       "      <td>3.790</td>\n",
       "    </tr>\n",
       "  </tbody>\n",
       "</table>\n",
       "</div>"
      ],
      "text/plain": [
       "                                            Метрика  Для уволившихся  \\\n",
       "0  Доля сотрудников с повышением за последние 5 лет            0.005   \n",
       "1                 Средняя степень удовлетворенности            0.440   \n",
       "2                       Среднее количество проектов            3.860   \n",
       "\n",
       "   Для не уволившихся  \n",
       "0               0.026  \n",
       "1               0.670  \n",
       "2               3.790  "
      ]
     },
     "execution_count": 34,
     "metadata": {},
     "output_type": "execute_result"
    }
   ],
   "source": [
    "result = pd.DataFrame(List, columns=['Метрика', 'Для уволившихся', 'Для не уволившихся']) # Трансформируем список в датасет\n",
    "\n",
    "result"
   ]
  },
  {
   "cell_type": "markdown",
   "id": "ebcd1904",
   "metadata": {},
   "source": [
    "### 9 - \n",
    "\n",
    "- ### Разделить данные на тестовую и обучающую выборки\n",
    "- ### Построить модель LDA, предсказывающую уволился ли сотрудник на основе имеющихся факторов (кроме department и salary)\n",
    "- ### Оценить качество модели на тестовой выборки"
   ]
  },
  {
   "cell_type": "markdown",
   "id": "6e68fbdc",
   "metadata": {},
   "source": [
    "Разделить данные на тестовую и обучающую выборки"
   ]
  },
  {
   "cell_type": "code",
   "execution_count": 35,
   "id": "3b47d429",
   "metadata": {},
   "outputs": [],
   "source": [
    "data_LDA = data.drop(['department', 'salary'], axis=1)"
   ]
  },
  {
   "cell_type": "code",
   "execution_count": 36,
   "id": "cd7f3757",
   "metadata": {},
   "outputs": [],
   "source": [
    "from sklearn.model_selection import train_test_split # Импортируем функционал разделения на выборки из библиотеки sklearn"
   ]
  },
  {
   "cell_type": "code",
   "execution_count": 37,
   "id": "526da12f",
   "metadata": {},
   "outputs": [],
   "source": [
    "X_train, X_test, y_train, y_test = train_test_split(data_LDA, data_LDA['left'], test_size=0.25) # Разделяем наши данные"
   ]
  },
  {
   "cell_type": "markdown",
   "id": "73b7ce5f",
   "metadata": {},
   "source": [
    "Построить модель LDA, предсказывающую уволился ли сотрудник на основе имеющихся факторов (кроме department и salary)"
   ]
  },
  {
   "cell_type": "code",
   "execution_count": 38,
   "id": "7a2e5b7a",
   "metadata": {},
   "outputs": [],
   "source": [
    "from sklearn.discriminant_analysis import LinearDiscriminantAnalysis # Импортируем LDA-функционал из библиотеки sklearn"
   ]
  },
  {
   "cell_type": "code",
   "execution_count": 39,
   "id": "4524bd0c",
   "metadata": {},
   "outputs": [],
   "source": [
    "lda = LinearDiscriminantAnalysis() # Задаем краткую абревиатуру нашего функционала"
   ]
  },
  {
   "cell_type": "code",
   "execution_count": 40,
   "id": "49e6897c",
   "metadata": {},
   "outputs": [
    {
     "data": {
      "text/plain": [
       "LinearDiscriminantAnalysis()"
      ]
     },
     "execution_count": 40,
     "metadata": {},
     "output_type": "execute_result"
    }
   ],
   "source": [
    "lda.fit(X_train, y_train) # Обучаем данные"
   ]
  },
  {
   "cell_type": "markdown",
   "id": "eb12af68",
   "metadata": {},
   "source": [
    "Оценить качество модели на тестовой выборки"
   ]
  },
  {
   "cell_type": "code",
   "execution_count": 41,
   "id": "01e75ecf",
   "metadata": {},
   "outputs": [
    {
     "data": {
      "text/plain": [
       "array([1, 0, 1, ..., 0, 0, 0], dtype=int64)"
      ]
     },
     "execution_count": 41,
     "metadata": {},
     "output_type": "execute_result"
    }
   ],
   "source": [
    "lda.predict(X_test) # Делаем прогноз на тестовой выборке"
   ]
  },
  {
   "cell_type": "code",
   "execution_count": 42,
   "id": "d6df7508",
   "metadata": {},
   "outputs": [
    {
     "data": {
      "text/html": [
       "<div>\n",
       "<style scoped>\n",
       "    .dataframe tbody tr th:only-of-type {\n",
       "        vertical-align: middle;\n",
       "    }\n",
       "\n",
       "    .dataframe tbody tr th {\n",
       "        vertical-align: top;\n",
       "    }\n",
       "\n",
       "    .dataframe thead th {\n",
       "        text-align: right;\n",
       "    }\n",
       "</style>\n",
       "<table border=\"1\" class=\"dataframe\">\n",
       "  <thead>\n",
       "    <tr style=\"text-align: right;\">\n",
       "      <th></th>\n",
       "      <th>left</th>\n",
       "      <th>Unnamed 0</th>\n",
       "    </tr>\n",
       "  </thead>\n",
       "  <tbody>\n",
       "    <tr>\n",
       "      <th>13476</th>\n",
       "      <td>0.0</td>\n",
       "      <td>NaN</td>\n",
       "    </tr>\n",
       "    <tr>\n",
       "      <th>3390</th>\n",
       "      <td>0.0</td>\n",
       "      <td>0.0</td>\n",
       "    </tr>\n",
       "    <tr>\n",
       "      <th>3246</th>\n",
       "      <td>0.0</td>\n",
       "      <td>0.0</td>\n",
       "    </tr>\n",
       "    <tr>\n",
       "      <th>848</th>\n",
       "      <td>1.0</td>\n",
       "      <td>0.0</td>\n",
       "    </tr>\n",
       "    <tr>\n",
       "      <th>9358</th>\n",
       "      <td>0.0</td>\n",
       "      <td>NaN</td>\n",
       "    </tr>\n",
       "    <tr>\n",
       "      <th>...</th>\n",
       "      <td>...</td>\n",
       "      <td>...</td>\n",
       "    </tr>\n",
       "    <tr>\n",
       "      <th>100</th>\n",
       "      <td>1.0</td>\n",
       "      <td>0.0</td>\n",
       "    </tr>\n",
       "    <tr>\n",
       "      <th>13532</th>\n",
       "      <td>0.0</td>\n",
       "      <td>NaN</td>\n",
       "    </tr>\n",
       "    <tr>\n",
       "      <th>14437</th>\n",
       "      <td>1.0</td>\n",
       "      <td>NaN</td>\n",
       "    </tr>\n",
       "    <tr>\n",
       "      <th>2312</th>\n",
       "      <td>0.0</td>\n",
       "      <td>0.0</td>\n",
       "    </tr>\n",
       "    <tr>\n",
       "      <th>4843</th>\n",
       "      <td>0.0</td>\n",
       "      <td>NaN</td>\n",
       "    </tr>\n",
       "  </tbody>\n",
       "</table>\n",
       "<p>3750 rows × 2 columns</p>\n",
       "</div>"
      ],
      "text/plain": [
       "       left  Unnamed 0\n",
       "13476   0.0        NaN\n",
       "3390    0.0        0.0\n",
       "3246    0.0        0.0\n",
       "848     1.0        0.0\n",
       "9358    0.0        NaN\n",
       "...     ...        ...\n",
       "100     1.0        0.0\n",
       "13532   0.0        NaN\n",
       "14437   1.0        NaN\n",
       "2312    0.0        0.0\n",
       "4843    0.0        NaN\n",
       "\n",
       "[3750 rows x 2 columns]"
      ]
     },
     "execution_count": 42,
     "metadata": {},
     "output_type": "execute_result"
    }
   ],
   "source": [
    "result = pd.DataFrame([y_test, lda.predict(X_test)]).T # Смотрим разницу факта и прогноза\n",
    "\n",
    "result"
   ]
  },
  {
   "cell_type": "code",
   "execution_count": 43,
   "id": "740a1b97",
   "metadata": {},
   "outputs": [],
   "source": [
    "from sklearn.metrics import accuracy_score # Импортируем функционал измерения качества работы модели из библиотеки sklearn"
   ]
  },
  {
   "cell_type": "code",
   "execution_count": 44,
   "id": "5e6893ef",
   "metadata": {},
   "outputs": [
    {
     "data": {
      "text/plain": [
       "0.7541333333333333"
      ]
     },
     "execution_count": 44,
     "metadata": {},
     "output_type": "execute_result"
    }
   ],
   "source": [
    "accuracy_score(y_test, lda.predict(X_test)) # Проверяем точность прогнозов модели"
   ]
  },
  {
   "cell_type": "code",
   "execution_count": 45,
   "id": "ce857e17",
   "metadata": {},
   "outputs": [
    {
     "data": {
      "text/plain": [
       "array([[-4.55860522e+00,  7.42432172e-01, -2.44050295e-01,\n",
       "         4.33264947e-03,  2.19413317e-01, -1.10824577e+00,\n",
       "        -0.00000000e+00, -1.24696743e+00]])"
      ]
     },
     "execution_count": 45,
     "metadata": {},
     "output_type": "execute_result"
    }
   ],
   "source": [
    "lda.coef_ # Коэффициенты дискриминатных линий"
   ]
  }
 ],
 "metadata": {
  "kernelspec": {
   "display_name": "Python 3 (ipykernel)",
   "language": "python",
   "name": "python3"
  },
  "language_info": {
   "codemirror_mode": {
    "name": "ipython",
    "version": 3
   },
   "file_extension": ".py",
   "mimetype": "text/x-python",
   "name": "python",
   "nbconvert_exporter": "python",
   "pygments_lexer": "ipython3",
   "version": "3.7.11"
  }
 },
 "nbformat": 4,
 "nbformat_minor": 5
}
