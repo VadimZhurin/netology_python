{
 "cells": [
  {
   "cell_type": "markdown",
   "metadata": {},
   "source": [
    "# Домашнее задание к лекции \"Основы Python\""
   ]
  },
  {
   "cell_type": "markdown",
   "metadata": {},
   "source": [
    "## Задание 1"
   ]
  },
  {
   "cell_type": "markdown",
   "metadata": {},
   "source": [
    "Даны 2 переменных, в которых хранятся строки произвольной длины: *phrase_1* и *phrase_2*.  \n",
    "Напишите код, который проверяет какая из этих строк длиннее."
   ]
  },
  {
   "cell_type": "code",
   "execution_count": 1,
   "metadata": {},
   "outputs": [],
   "source": [
    "phrase_1 = 'Насколько проще было бы писать программы, если бы не заказчики'\n",
    "phrase_2 = '640Кб должно хватить для любых задач. Билл Гейтс (по легенде)'\n",
    "\n",
    "if phrase_1 > phrase_2:\n",
    "    print ('Фраза 1 длиннее фразы 2')\n",
    "elif phrase_1 < phrase_2:\n",
    "    print ('Фраза 2 длиннее фразы 1')\n",
    "else:\n",
    "    print ('Фразы равной длины')"
   ]
  },
  {
   "cell_type": "code",
   "execution_count": 2,
   "metadata": {},
   "outputs": [
    {
     "name": "stdout",
     "output_type": "stream",
     "text": [
      "Фраза 2 длиннее фразы 1\n"
     ]
    }
   ],
   "source": [
    "phrase_1 = '640Кб должно хватить для любых задач. Билл Гейтс (по легенде)'\n",
    "phrase_2 = 'Насколько проще было бы писать программы, если бы не заказчики'\n",
    "\n",
    "if phrase_1 > phrase_2:\n",
    "    print ('Фраза 1 длиннее фразы 2')\n",
    "elif phrase_1 < phrase_2:\n",
    "    print ('Фраза 2 длиннее фразы 1')\n",
    "else:\n",
    "    print ('Фразы равной длины')"
   ]
  },
  {
   "cell_type": "code",
   "execution_count": 3,
   "metadata": {},
   "outputs": [
    {
     "name": "stdout",
     "output_type": "stream",
     "text": [
      "Фразы равной длины\n"
     ]
    }
   ],
   "source": [
    "phrase_1 = 'Насколько проще было бы писать программы, если бы не заказчики'\n",
    "phrase_2 = 'Насколько проще было бы писать программы, если бы не заказчики'\n",
    "\n",
    "if phrase_1 > phrase_2:\n",
    "    print ('Фраза 1 длиннее фразы 2')\n",
    "elif phrase_1 < phrase_2:\n",
    "    print ('Фраза 2 длиннее фразы 1')\n",
    "else:\n",
    "    print ('Фразы равной длины')"
   ]
  },
  {
   "cell_type": "markdown",
   "metadata": {},
   "source": [
    "# Задание 2"
   ]
  },
  {
   "cell_type": "markdown",
   "metadata": {},
   "source": [
    "Дана переменная, в которой хранится четырехзначное число (год). Необходимо написать программу, которая выведет, является ли данный год високосным или обычным."
   ]
  },
  {
   "cell_type": "code",
   "execution_count": 4,
   "metadata": {},
   "outputs": [
    {
     "name": "stdout",
     "output_type": "stream",
     "text": [
      "Введите год: 2020\n",
      "Високосный год\n"
     ]
    }
   ],
   "source": [
    "# 2020 год\n",
    "\n",
    "year = int(input('Введите год: '))\n",
    "\n",
    "if year % 4 == 0:\n",
    "    print('Високосный год')\n",
    "else:\n",
    "    print('Обычный год')"
   ]
  },
  {
   "cell_type": "code",
   "execution_count": 5,
   "metadata": {},
   "outputs": [
    {
     "name": "stdout",
     "output_type": "stream",
     "text": [
      "Введите год: 2019\n",
      "Обычный год\n"
     ]
    }
   ],
   "source": [
    "# 2019 год\n",
    "\n",
    "year = int(input('Введите год: '))\n",
    "\n",
    "if year % 4 == 0:\n",
    "    print('Високосный год')\n",
    "else:\n",
    "    print('Обычный год')"
   ]
  },
  {
   "cell_type": "markdown",
   "metadata": {},
   "source": [
    "## Задание 3"
   ]
  },
  {
   "cell_type": "markdown",
   "metadata": {},
   "source": [
    "Необходимо написать программу, которая будет запрашивать у пользователя месяц и дату рождения и выводить соответствующий знак зодиака."
   ]
  },
  {
   "cell_type": "code",
   "execution_count": 6,
   "metadata": {},
   "outputs": [
    {
     "name": "stdout",
     "output_type": "stream",
     "text": [
      "Введите день: 30\n",
      "Введите месяц: Август\n",
      "Ваш знак зодиака: Дева\n"
     ]
    }
   ],
   "source": [
    "# 30 Август Дева\n",
    "\n",
    "day = int(input('Введите день: '))\n",
    "month = input('Введите месяц: ')\n",
    "\n",
    "if month == 'Январь' and 20 >= day > 0:\n",
    "    print('Ваш знак зодиака: Козерог')\n",
    "elif month == 'Январь' and day <= 31 or month == 'Февраль' and 18 >= day > 0:\n",
    "    print('Ваш знак зодиака: Водолей')\n",
    "elif month == 'Февраль' and day <= 28 or month == 'Март' and 20 >= day > 0:\n",
    "    print('Ваш знак зодиака: Рыбы')    \n",
    "elif month == 'Март' and day <= 31 or month == 'Апрель' and 20 >= day > 0:\n",
    "    print('Ваш знак зодиака: Овен')       \n",
    "elif month == 'Апрель' and day <= 30 or month == 'Май' and 21 >= day > 0:\n",
    "    print('Ваш знак зодиака: Телец') \n",
    "elif month == 'Май' and day <= 31 or month == 'Июнь' and 21 >= day > 0:\n",
    "    print('Ваш знак зодиака: Близнецы')\n",
    "elif month == 'Июнь' and day <= 30 or month == 'Июль' and 22 >= day > 0:\n",
    "    print('Ваш знак зодиака: Рак')        \n",
    "elif month == 'Июль' and day <= 31 or month == 'Август' and 23 >= day > 0:\n",
    "    print('Ваш знак зодиака: Лев')       \n",
    "elif month == 'Август' and day <= 31 or month == 'Сентябрь' and 23 >= day > 0:\n",
    "    print('Ваш знак зодиака: Дева')\n",
    "elif month == 'Сентябрь' and day <= 30 or month == 'Октябрь' and 23 >= day > 0:\n",
    "    print('Ваш знак зодиака: Весы') \n",
    "elif month == 'Октябрь' and day <= 31 or month == 'Ноябрь' and 23 >= day > 0:\n",
    "    print('Ваш знак зодиака: Скорпион') \n",
    "elif month == 'Ноябрь' and day <= 30 or month == 'Декабрь' and 22 >= day > 0:\n",
    "    print('Ваш знак зодиака: Стрелец') \n",
    "elif month == 'Декабрь' and day <= 31:\n",
    "    print('Ваш знак зодиака: Козерог')  \n",
    "else:\n",
    "    print('Неверная дата!')"
   ]
  },
  {
   "cell_type": "code",
   "execution_count": 7,
   "metadata": {},
   "outputs": [
    {
     "name": "stdout",
     "output_type": "stream",
     "text": [
      "Введите день: 29\n",
      "Введите месяц: Октябрь\n",
      "Ваш знак зодиака: Скорпион\n"
     ]
    }
   ],
   "source": [
    "# 29 Октябрь Скорпион\n",
    "\n",
    "day = int(input('Введите день: '))\n",
    "month = input('Введите месяц: ')\n",
    "\n",
    "if month == 'Январь' and 20 >= day > 0:\n",
    "    print('Ваш знак зодиака: Козерог')\n",
    "elif month == 'Январь' and day <= 31 or month == 'Февраль' and 18 >= day > 0:\n",
    "    print('Ваш знак зодиака: Водолей')\n",
    "elif month == 'Февраль' and day <= 28 or month == 'Март' and 20 >= day > 0:\n",
    "    print('Ваш знак зодиака: Рыбы')    \n",
    "elif month == 'Март' and day <= 31 or month == 'Апрель' and 20 >= day > 0:\n",
    "    print('Ваш знак зодиака: Овен')       \n",
    "elif month == 'Апрель' and day <= 30 or month == 'Май' and 21 >= day > 0:\n",
    "    print('Ваш знак зодиака: Телец') \n",
    "elif month == 'Май' and day <= 31 or month == 'Июнь' and 21 >= day > 0:\n",
    "    print('Ваш знак зодиака: Близнецы')\n",
    "elif month == 'Июнь' and day <= 30 or month == 'Июль' and 22 >= day > 0:\n",
    "    print('Ваш знак зодиака: Рак')        \n",
    "elif month == 'Июль' and day <= 31 or month == 'Август' and 23 >= day > 0:\n",
    "    print('Ваш знак зодиака: Лев')       \n",
    "elif month == 'Август' and day <= 31 or month == 'Сентябрь' and 23 >= day > 0:\n",
    "    print('Ваш знак зодиака: Дева')\n",
    "elif month == 'Сентябрь' and day <= 30 or month == 'Октябрь' and 23 >= day > 0:\n",
    "    print('Ваш знак зодиака: Весы') \n",
    "elif month == 'Октябрь' and day <= 31 or month == 'Ноябрь' and 23 >= day > 0:\n",
    "    print('Ваш знак зодиака: Скорпион') \n",
    "elif month == 'Ноябрь' and day <= 30 or month == 'Декабрь' and 22 >= day > 0:\n",
    "    print('Ваш знак зодиака: Стрелец') \n",
    "elif month == 'Декабрь' and day <= 31:\n",
    "    print('Ваш знак зодиака: Козерог')  \n",
    "else:\n",
    "    print('Неверная дата!')"
   ]
  },
  {
   "cell_type": "markdown",
   "metadata": {},
   "source": [
    "## Задание 4"
   ]
  },
  {
   "cell_type": "markdown",
   "metadata": {},
   "source": [
    "Вам нужно написать программу для подбора упаковок по размерам товара. Размеры (ширина, длина, высота) хранятся в переменных (в сантиметрах):\n",
    "\n",
    "Используйте следующие правила:\n",
    "- если каждое из трех измерений менее 15 сантиметров, то выведите на экран \"Коробка №1\";\n",
    "- если хотя бы одно из измерений больше 15 сантиметров, но менее 50 сантиметров, то выводите \"Коробка №2\";\n",
    "- если длина товара больше 2 метров, то выводите \"Упаковка для лыж\";\n",
    "- во всех остальных случаях выводите \"Стандартная коробка №3\"."
   ]
  },
  {
   "cell_type": "code",
   "execution_count": 8,
   "metadata": {},
   "outputs": [
    {
     "name": "stdout",
     "output_type": "stream",
     "text": [
      "Ширина, см: 15\n",
      "Длина, см: 50\n",
      "Высота, см: 15\n",
      "Стандартная коробка №3\n"
     ]
    }
   ],
   "source": [
    "# 15 50 15 - Стандартная коробка №3\n",
    "\n",
    "width = int(input('Ширина, см: '))\n",
    "length = int(input('Длина, см: '))\n",
    "height = int(input('Высота, см: '))\n",
    "\n",
    "if 15 > width and 15 > length and 15 > height:\n",
    "    print('Коробка №1')\n",
    "elif 50 > width >= 15 and 50 > length >= 15 and 50 > height >= 15:\n",
    "    print('Коробка №2')\n",
    "elif 200 < length:\n",
    "    print('Упаковка для лыж')\n",
    "else:\n",
    "    print('Стандартная коробка №3')"
   ]
  },
  {
   "cell_type": "code",
   "execution_count": 9,
   "metadata": {},
   "outputs": [
    {
     "name": "stdout",
     "output_type": "stream",
     "text": [
      "Ширина, см: 45\n",
      "Длина, см: 205\n",
      "Высота, см: 45\n",
      "Упаковка для лыж\n"
     ]
    }
   ],
   "source": [
    "# 45 205 45 - Упаковка для лыж\n",
    "\n",
    "width = int(input('Ширина, см: '))\n",
    "length = int(input('Длина, см: '))\n",
    "height = int(input('Высота, см: '))\n",
    "\n",
    "if 15 > width and 15 > length and 15 > height:\n",
    "    print('Коробка №1')\n",
    "elif 50 > width >= 15 and 50 > length >= 15 and 50 > height >= 15:\n",
    "    print('Коробка №2')\n",
    "elif 200 < length:\n",
    "    print('Упаковка для лыж')\n",
    "else:\n",
    "    print('Стандартная коробка №3')"
   ]
  },
  {
   "cell_type": "markdown",
   "metadata": {},
   "source": [
    "## Задание 5 (необязательное)"
   ]
  },
  {
   "cell_type": "markdown",
   "metadata": {},
   "source": [
    "Дана переменная, в которой хранится шестизначное число (номер проездного билета). Напишите программу, которая будет определять, является ли данный билет \"счастливым\". Билет считается счастливым, если сумма первых трех цифр совпадает с суммой последних трех цифр номера.   "
   ]
  },
  {
   "cell_type": "code",
   "execution_count": 10,
   "metadata": {},
   "outputs": [
    {
     "name": "stdout",
     "output_type": "stream",
     "text": [
      "Введите номер билета: 123456\n",
      "Несчастливый билет\n"
     ]
    }
   ],
   "source": [
    "#123456\n",
    "\n",
    "number = int(input('Введите номер билета: '))\n",
    "\n",
    "if 3 <= len(str(number)):\n",
    "    if sum([int(str(number)[0:1]), int(str(number)[1:2]), int(str(number)[2:3])]) == sum([int(str(number)[len(str(number))-3:len(str(number))-2]),int(str(number)[len(str(number))-2:len(str(number))-1]), int(str(number)[len(str(number))-1:len(str(number))])]):\n",
    "        print('Счастливый билет')\n",
    "    else:\n",
    "        print('Несчастливый билет')\n",
    "else:\n",
    "    print('Cлишком короткий номер билета')"
   ]
  },
  {
   "cell_type": "code",
   "execution_count": 11,
   "metadata": {},
   "outputs": [
    {
     "name": "stdout",
     "output_type": "stream",
     "text": [
      "Введите номер билета: 123321\n",
      "Счастливый билет\n"
     ]
    }
   ],
   "source": [
    "#123321\n",
    "\n",
    "number = int(input('Введите номер билета: '))\n",
    "\n",
    "if 3 <= len(str(number)):\n",
    "    if sum([int(str(number)[0:1]), int(str(number)[1:2]), int(str(number)[2:3])]) == sum([int(str(number)[len(str(number))-3:len(str(number))-2]),int(str(number)[len(str(number))-2:len(str(number))-1]), int(str(number)[len(str(number))-1:len(str(number))])]):\n",
    "        print('Счастливый билет')\n",
    "    else:\n",
    "        print('Несчастливый билет')\n",
    "else:\n",
    "    print('Cлишком короткий номер билета')"
   ]
  },
  {
   "cell_type": "markdown",
   "metadata": {},
   "source": [
    "## Задание 6 (необязательное)"
   ]
  },
  {
   "cell_type": "markdown",
   "metadata": {},
   "source": [
    "Напишите программу, которая сможет вычислять площади трех фигур (круг, треугольник и прямоугольник).\n",
    "Тип фигуры запрашиваем через пользовательский ввод, после чего делаем запрос характеристик фигуры:\n",
    "\n",
    "- если пользователь выбрал круг, запрашиваем его радиус,\n",
    "- если треугольник – длины трех его сторон;\n",
    "- если прямоугольник – длины двух его сторон."
   ]
  },
  {
   "cell_type": "code",
   "execution_count": 12,
   "metadata": {},
   "outputs": [
    {
     "name": "stdout",
     "output_type": "stream",
     "text": [
      "Введите тип фигуры: круг\n",
      "Введите радиус круга: 10\n",
      "Площадь круга:  314.16\n"
     ]
    }
   ],
   "source": [
    "# Круг Радиус 10 результат 314.16\n",
    "\n",
    "type = str.capitalize(input('Введите тип фигуры: '))\n",
    "\n",
    "if type == 'Круг':\n",
    "    radius = int(input('Введите радиус круга: '))\n",
    "elif type == 'Треугольник':\n",
    "    triangle_a = float(input('Введите длину стороны A: '))\n",
    "    triangle_b = float(input('Введите длину стороны B: '))\n",
    "    triangle_c = float(input('Введите длину стороны C: '))\n",
    "    triangle_p = sum([triangle_a, triangle_b, triangle_c])/2\n",
    "elif type == 'Прямоугольник':\n",
    "    rectangle_a = float(input('Введите длину стороны A: '))\n",
    "    rectangle_b = float(input('Введите длину стороны B: '))\n",
    "else:\n",
    "    print('Неверная фигура')\n",
    "    \n",
    "if type == 'Круг':\n",
    "    print('Площадь круга: ', round(3.1415926535 * (radius ** 2),2))\n",
    "elif type == 'Треугольник':\n",
    "    print('Площадь треугольника: ', round(pow(triangle_p*(triangle_p-triangle_a)*(triangle_p-triangle_b)*(triangle_p-triangle_c),0.5),2))\n",
    "elif type == 'Прямоугольник':\n",
    "    print('Площадь прямоугольника: ', round(rectangle_a * rectangle_b,2))"
   ]
  },
  {
   "cell_type": "code",
   "execution_count": 13,
   "metadata": {},
   "outputs": [
    {
     "name": "stdout",
     "output_type": "stream",
     "text": [
      "Введите тип фигуры: Треугольник\n",
      "Введите длину стороны A: 2\n",
      "Введите длину стороны B: 2\n",
      "Введите длину стороны C: 3\n",
      "Площадь треугольника:  1.98\n"
     ]
    }
   ],
   "source": [
    "# Треугольник 2 2 3 результат 1.98\n",
    "\n",
    "type = str.capitalize(input('Введите тип фигуры: '))\n",
    "\n",
    "if type == 'Круг':\n",
    "    radius = int(input('Введите радиус круга: '))\n",
    "elif type == 'Треугольник':\n",
    "    triangle_a = float(input('Введите длину стороны A: '))\n",
    "    triangle_b = float(input('Введите длину стороны B: '))\n",
    "    triangle_c = float(input('Введите длину стороны C: '))\n",
    "    triangle_p = sum([triangle_a, triangle_b, triangle_c])/2\n",
    "elif type == 'Прямоугольник':\n",
    "    rectangle_a = float(input('Введите длину стороны A: '))\n",
    "    rectangle_b = float(input('Введите длину стороны B: '))\n",
    "else:\n",
    "    print('Неверная фигура')\n",
    "    \n",
    "if type == 'Круг':\n",
    "    print('Площадь круга: ', round(3.1415926535 * (radius ** 2),2))\n",
    "elif type == 'Треугольник':\n",
    "    print('Площадь треугольника: ', round(pow(triangle_p*(triangle_p-triangle_a)*(triangle_p-triangle_b)*(triangle_p-triangle_c),0.5),2))\n",
    "elif type == 'Прямоугольник':\n",
    "    print('Площадь прямоугольника: ', round(rectangle_a * rectangle_b,2))"
   ]
  }
 ],
 "metadata": {
  "kernelspec": {
   "display_name": "Python 3",
   "language": "python",
   "name": "python3"
  },
  "language_info": {
   "codemirror_mode": {
    "name": "ipython",
    "version": 3
   },
   "file_extension": ".py",
   "mimetype": "text/x-python",
   "name": "python",
   "nbconvert_exporter": "python",
   "pygments_lexer": "ipython3",
   "version": "3.8.5"
  }
 },
 "nbformat": 4,
 "nbformat_minor": 2
}
